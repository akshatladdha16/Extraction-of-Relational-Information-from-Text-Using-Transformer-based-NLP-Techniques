{
 "cells": [
  {
   "cell_type": "markdown",
   "id": "b5a62c72",
   "metadata": {},
   "source": [
    "### Method 1: Model stacking for entities extraction process"
   ]
  },
  {
   "cell_type": "code",
   "execution_count": 27,
   "id": "1b71b3a1",
   "metadata": {},
   "outputs": [],
   "source": [
    "text = \"When Sebastian Thrun started working on self-driving cars at Google in 2007, few people outside of the company took him seriously. “I can tell you very senior CEOs of major American car companies would shake my hand and turn away because I wasn’t worth talking to,” said Thrun, now the co-founder and CEO of online higher education startup Udacity, in an interview with Recode earlier this week. A little less than a decade later, dozens of self-driving startups have cropped up while automakers around the world clamor, wallet in hand, to secure their place in the fast-moving world of fully automated transportation.\""
   ]
  },
  {
   "cell_type": "code",
   "execution_count": 4,
   "id": "0978febc",
   "metadata": {},
   "outputs": [],
   "source": [
    "# Loading the pipeline from hub\n",
    "from transformers import pipeline\n",
    "# Pipeline handles the preprocessing and post processing steps\n",
    "model_checkpoint_m1 = \"balamurugan1603/bert-finetuned-ner\"\n",
    "namedEntityRecogniser_m1 = pipeline(\n",
    "    \"token-classification\", model=model_checkpoint_m1, aggregation_strategy=\"simple\"\n",
    ")"
   ]
  },
  {
   "cell_type": "code",
   "execution_count": 5,
   "id": "bfd6a927",
   "metadata": {},
   "outputs": [
    {
     "name": "stdout",
     "output_type": "stream",
     "text": [
      "[[{'entity_group': 'PER', 'score': 0.9975978, 'word': 'Sebastian Thrun', 'start': 5, 'end': 20}, {'entity_group': 'ORG', 'score': 0.98961675, 'word': 'Google', 'start': 61, 'end': 67}, {'entity_group': 'MISC', 'score': 0.9944423, 'word': 'American', 'start': 173, 'end': 181}, {'entity_group': 'PER', 'score': 0.9945845, 'word': 'Thrun', 'start': 271, 'end': 276}, {'entity_group': 'ORG', 'score': 0.97429544, 'word': 'Udacity', 'start': 340, 'end': 347}, {'entity_group': 'ORG', 'score': 0.9724045, 'word': 'Recode', 'start': 370, 'end': 376}]]\n"
     ]
    }
   ],
   "source": [
    "m1_results=namedEntityRecogniser_m1([text])\n",
    "print(m1_results)"
   ]
  },
  {
   "cell_type": "code",
   "execution_count": 6,
   "id": "22649620",
   "metadata": {},
   "outputs": [],
   "source": [
    "# Model 2: for skill recognition\n",
    "model_checkpoint_m2 = \"algiraldohe/lm-ner-linkedin-skills-recognition\"\n",
    "namedEntityRecogniser_m2 = pipeline(\n",
    "    \"token-classification\", model=model_checkpoint_m2, aggregation_strategy=\"simple\"\n",
    ")"
   ]
  },
  {
   "cell_type": "markdown",
   "id": "a53fd0ae",
   "metadata": {},
   "source": [
    "Labels in this model: ['B-BUS', 'B-SOFT', 'B-TECHNICAL', 'B-TECHNOLOGY', 'I-BUS', 'I-SOFT', 'I-TECHNICAL', 'I-TECHNOLOGY', 'O']"
   ]
  },
  {
   "cell_type": "code",
   "execution_count": 7,
   "id": "bff1d343",
   "metadata": {},
   "outputs": [
    {
     "name": "stdout",
     "output_type": "stream",
     "text": [
      "[[{'entity_group': 'BUS', 'score': 0.9896613, 'word': 'higher education', 'start': 315, 'end': 331}, {'entity_group': 'TECHNOLOGY', 'score': 0.9974293, 'word': 'less', 'start': 405, 'end': 409}, {'entity_group': 'BUS', 'score': 0.99113655, 'word': 'startups', 'start': 454, 'end': 462}]]\n"
     ]
    }
   ],
   "source": [
    "m2_results = namedEntityRecogniser_m2([text])\n",
    "print(m2_results)"
   ]
  },
  {
   "cell_type": "markdown",
   "id": "2aa8663d",
   "metadata": {},
   "source": [
    "extracted results from both the models."
   ]
  },
  {
   "cell_type": "markdown",
   "id": "02f9e889",
   "metadata": {},
   "source": [
    "##### Merging results"
   ]
  },
  {
   "cell_type": "code",
   "execution_count": 8,
   "id": "1832bda2",
   "metadata": {},
   "outputs": [],
   "source": [
    "m1_results.extend(m2_results)"
   ]
  },
  {
   "cell_type": "code",
   "execution_count": 9,
   "id": "d96b798e",
   "metadata": {},
   "outputs": [],
   "source": [
    "# Merge the two lists into a single list\n",
    "merged_results = m1_results[0]\n",
    "for entity in m1_results[1]:\n",
    "    existing_entity = next((ent for ent in merged_results if ent['start'] == entity['start']), None)\n",
    "    if existing_entity is None or entity['score'] > existing_entity['score']:\n",
    "        merged_results.append(entity)\n",
    "\n",
    "# Sort the merged list based on 'start' index in ascending order\n",
    "sorted_results= sorted(merged_results, key=lambda x: x['start'])"
   ]
  },
  {
   "cell_type": "code",
   "execution_count": 10,
   "id": "9a081ebc",
   "metadata": {},
   "outputs": [
    {
     "name": "stdout",
     "output_type": "stream",
     "text": [
      "[{'entity_group': 'PER', 'score': 0.9975978, 'word': 'Sebastian Thrun', 'start': 5, 'end': 20}, {'entity_group': 'ORG', 'score': 0.98961675, 'word': 'Google', 'start': 61, 'end': 67}, {'entity_group': 'MISC', 'score': 0.9944423, 'word': 'American', 'start': 173, 'end': 181}, {'entity_group': 'PER', 'score': 0.9945845, 'word': 'Thrun', 'start': 271, 'end': 276}, {'entity_group': 'BUS', 'score': 0.9896613, 'word': 'higher education', 'start': 315, 'end': 331}, {'entity_group': 'ORG', 'score': 0.97429544, 'word': 'Udacity', 'start': 340, 'end': 347}, {'entity_group': 'ORG', 'score': 0.9724045, 'word': 'Recode', 'start': 370, 'end': 376}, {'entity_group': 'TECHNOLOGY', 'score': 0.9974293, 'word': 'less', 'start': 405, 'end': 409}, {'entity_group': 'BUS', 'score': 0.99113655, 'word': 'startups', 'start': 454, 'end': 462}]\n"
     ]
    }
   ],
   "source": [
    "print(sorted_results)"
   ]
  },
  {
   "cell_type": "code",
   "execution_count": 11,
   "id": "d6c6db2c",
   "metadata": {},
   "outputs": [],
   "source": [
    "final_result=[sorted_results]"
   ]
  },
  {
   "cell_type": "markdown",
   "id": "dcf450e9",
   "metadata": {},
   "source": [
    "##### Visualization"
   ]
  },
  {
   "cell_type": "code",
   "execution_count": 12,
   "id": "9226b174",
   "metadata": {},
   "outputs": [
    {
     "name": "stderr",
     "output_type": "stream",
     "text": [
      "C:\\Users\\AKSHAT RAI LADDHA\\anaconda3\\Lib\\site-packages\\cupy\\_environment.py:214: UserWarning: CUDA path could not be detected. Set CUDA_PATH environment variable if CuPy fails to load.\n",
      "  warnings.warn(\n",
      "C:\\Users\\AKSHAT RAI LADDHA\\anaconda3\\Lib\\site-packages\\cupy\\_environment.py:214: UserWarning: CUDA path could not be detected. Set CUDA_PATH environment variable if CuPy fails to load.\n",
      "  warnings.warn(\n",
      "C:\\Users\\AKSHAT RAI LADDHA\\anaconda3\\Lib\\site-packages\\cupy\\_environment.py:214: UserWarning: CUDA path could not be detected. Set CUDA_PATH environment variable if CuPy fails to load.\n",
      "  warnings.warn(\n"
     ]
    }
   ],
   "source": [
    "from spacy import displacy"
   ]
  },
  {
   "cell_type": "code",
   "execution_count": 13,
   "id": "3f3f393d",
   "metadata": {},
   "outputs": [
    {
     "data": {
      "text/html": [
       "<span class=\"tex2jax_ignore\"><div class=\"entities\" style=\"line-height: 2.5; direction: ltr\">When \n",
       "<mark class=\"entity\" style=\"background: #ddd; padding: 0.45em 0.6em; margin: 0 0.25em; line-height: 1; border-radius: 0.35em;\">\n",
       "    Sebastian Thrun\n",
       "    <span style=\"font-size: 0.8em; font-weight: bold; line-height: 1; border-radius: 0.35em; vertical-align: middle; margin-left: 0.5rem\">PER</span>\n",
       "</mark>\n",
       " started working on self-driving cars at \n",
       "<mark class=\"entity\" style=\"background: #7aecec; padding: 0.45em 0.6em; margin: 0 0.25em; line-height: 1; border-radius: 0.35em;\">\n",
       "    Google\n",
       "    <span style=\"font-size: 0.8em; font-weight: bold; line-height: 1; border-radius: 0.35em; vertical-align: middle; margin-left: 0.5rem\">ORG</span>\n",
       "</mark>\n",
       " in 2007, few people outside of the company took him seriously. “I can tell you very senior CEOs of major \n",
       "<mark class=\"entity\" style=\"background: #ddd; padding: 0.45em 0.6em; margin: 0 0.25em; line-height: 1; border-radius: 0.35em;\">\n",
       "    American\n",
       "    <span style=\"font-size: 0.8em; font-weight: bold; line-height: 1; border-radius: 0.35em; vertical-align: middle; margin-left: 0.5rem\">MISC</span>\n",
       "</mark>\n",
       " car companies would shake my hand and turn away because I wasn’t worth talking to,” said \n",
       "<mark class=\"entity\" style=\"background: #ddd; padding: 0.45em 0.6em; margin: 0 0.25em; line-height: 1; border-radius: 0.35em;\">\n",
       "    Thrun\n",
       "    <span style=\"font-size: 0.8em; font-weight: bold; line-height: 1; border-radius: 0.35em; vertical-align: middle; margin-left: 0.5rem\">PER</span>\n",
       "</mark>\n",
       ", now the co-founder and CEO of online \n",
       "<mark class=\"entity\" style=\"background: #ddd; padding: 0.45em 0.6em; margin: 0 0.25em; line-height: 1; border-radius: 0.35em;\">\n",
       "    higher education\n",
       "    <span style=\"font-size: 0.8em; font-weight: bold; line-height: 1; border-radius: 0.35em; vertical-align: middle; margin-left: 0.5rem\">BUS</span>\n",
       "</mark>\n",
       " startup \n",
       "<mark class=\"entity\" style=\"background: #7aecec; padding: 0.45em 0.6em; margin: 0 0.25em; line-height: 1; border-radius: 0.35em;\">\n",
       "    Udacity\n",
       "    <span style=\"font-size: 0.8em; font-weight: bold; line-height: 1; border-radius: 0.35em; vertical-align: middle; margin-left: 0.5rem\">ORG</span>\n",
       "</mark>\n",
       ", in an interview with \n",
       "<mark class=\"entity\" style=\"background: #7aecec; padding: 0.45em 0.6em; margin: 0 0.25em; line-height: 1; border-radius: 0.35em;\">\n",
       "    Recode\n",
       "    <span style=\"font-size: 0.8em; font-weight: bold; line-height: 1; border-radius: 0.35em; vertical-align: middle; margin-left: 0.5rem\">ORG</span>\n",
       "</mark>\n",
       " earlier this week. A little \n",
       "<mark class=\"entity\" style=\"background: #ddd; padding: 0.45em 0.6em; margin: 0 0.25em; line-height: 1; border-radius: 0.35em;\">\n",
       "    less\n",
       "    <span style=\"font-size: 0.8em; font-weight: bold; line-height: 1; border-radius: 0.35em; vertical-align: middle; margin-left: 0.5rem\">TECHNOLOGY</span>\n",
       "</mark>\n",
       " than a decade later, dozens of self-driving \n",
       "<mark class=\"entity\" style=\"background: #ddd; padding: 0.45em 0.6em; margin: 0 0.25em; line-height: 1; border-radius: 0.35em;\">\n",
       "    startups\n",
       "    <span style=\"font-size: 0.8em; font-weight: bold; line-height: 1; border-radius: 0.35em; vertical-align: middle; margin-left: 0.5rem\">BUS</span>\n",
       "</mark>\n",
       " have cropped up while automakers around the world clamor, wallet in hand, to secure their place in the fast-moving world of fully automated transportation.</div></span>"
      ],
      "text/plain": [
       "<IPython.core.display.HTML object>"
      ]
     },
     "metadata": {},
     "output_type": "display_data"
    }
   ],
   "source": [
    "def visualize(pipeline_output, texts):\n",
    "    for i in range(len(final_result)):\n",
    "        entities = []\n",
    "        for ents in final_result[i]:\n",
    "            entities.append({\"end\": ents[\"end\"], \"label\": ents[\"entity_group\"], \"start\": ents[\"start\"]})\n",
    "        displacy.render({\n",
    "            \"ents\": entities,\n",
    "            \"text\": texts[i]\n",
    "        }, style=\"ent\", manual=True)\n",
    "visualize(final_result,[text])"
   ]
  },
  {
   "cell_type": "markdown",
   "id": "003547e8",
   "metadata": {},
   "source": [
    "### Method 2: Using Spacy transformer based model to extract entities"
   ]
  },
  {
   "cell_type": "code",
   "execution_count": 14,
   "id": "1de16105",
   "metadata": {},
   "outputs": [
    {
     "name": "stdout",
     "output_type": "stream",
     "text": [
      "Requirement already satisfied: spacy[cuda111,transformers] in c:\\users\\akshat rai laddha\\anaconda3\\lib\\site-packages (3.6.0)\n",
      "Requirement already satisfied: spacy-legacy<3.1.0,>=3.0.11 in c:\\users\\akshat rai laddha\\anaconda3\\lib\\site-packages (from spacy[cuda111,transformers]) (3.0.12)\n",
      "Requirement already satisfied: spacy-loggers<2.0.0,>=1.0.0 in c:\\users\\akshat rai laddha\\anaconda3\\lib\\site-packages (from spacy[cuda111,transformers]) (1.0.4)\n",
      "Requirement already satisfied: murmurhash<1.1.0,>=0.28.0 in c:\\users\\akshat rai laddha\\anaconda3\\lib\\site-packages (from spacy[cuda111,transformers]) (1.0.9)\n",
      "Requirement already satisfied: cymem<2.1.0,>=2.0.2 in c:\\users\\akshat rai laddha\\anaconda3\\lib\\site-packages (from spacy[cuda111,transformers]) (2.0.7)\n",
      "Requirement already satisfied: preshed<3.1.0,>=3.0.2 in c:\\users\\akshat rai laddha\\anaconda3\\lib\\site-packages (from spacy[cuda111,transformers]) (3.0.8)\n",
      "Requirement already satisfied: thinc<8.2.0,>=8.1.8 in c:\\users\\akshat rai laddha\\anaconda3\\lib\\site-packages (from spacy[cuda111,transformers]) (8.1.10)\n",
      "Requirement already satisfied: wasabi<1.2.0,>=0.9.1 in c:\\users\\akshat rai laddha\\anaconda3\\lib\\site-packages (from spacy[cuda111,transformers]) (1.1.2)\n",
      "Requirement already satisfied: srsly<3.0.0,>=2.4.3 in c:\\users\\akshat rai laddha\\anaconda3\\lib\\site-packages (from spacy[cuda111,transformers]) (2.4.7)\n",
      "Requirement already satisfied: catalogue<2.1.0,>=2.0.6 in c:\\users\\akshat rai laddha\\anaconda3\\lib\\site-packages (from spacy[cuda111,transformers]) (2.0.9)\n",
      "Requirement already satisfied: typer<0.10.0,>=0.3.0 in c:\\users\\akshat rai laddha\\anaconda3\\lib\\site-packages (from spacy[cuda111,transformers]) (0.9.0)\n",
      "Requirement already satisfied: pathy>=0.10.0 in c:\\users\\akshat rai laddha\\anaconda3\\lib\\site-packages (from spacy[cuda111,transformers]) (0.10.2)\n",
      "Requirement already satisfied: smart-open<7.0.0,>=5.2.1 in c:\\users\\akshat rai laddha\\anaconda3\\lib\\site-packages (from spacy[cuda111,transformers]) (5.2.1)\n",
      "Requirement already satisfied: tqdm<5.0.0,>=4.38.0 in c:\\users\\akshat rai laddha\\anaconda3\\lib\\site-packages (from spacy[cuda111,transformers]) (4.65.0)\n",
      "Requirement already satisfied: numpy>=1.15.0 in c:\\users\\akshat rai laddha\\anaconda3\\lib\\site-packages (from spacy[cuda111,transformers]) (1.24.3)\n",
      "Requirement already satisfied: requests<3.0.0,>=2.13.0 in c:\\users\\akshat rai laddha\\anaconda3\\lib\\site-packages (from spacy[cuda111,transformers]) (2.29.0)\n",
      "Requirement already satisfied: pydantic!=1.8,!=1.8.1,<1.11.0,>=1.7.4 in c:\\users\\akshat rai laddha\\anaconda3\\lib\\site-packages (from spacy[cuda111,transformers]) (1.10.12)\n",
      "Requirement already satisfied: jinja2 in c:\\users\\akshat rai laddha\\anaconda3\\lib\\site-packages (from spacy[cuda111,transformers]) (3.1.2)\n",
      "Requirement already satisfied: setuptools in c:\\users\\akshat rai laddha\\anaconda3\\lib\\site-packages (from spacy[cuda111,transformers]) (67.8.0)\n",
      "Requirement already satisfied: packaging>=20.0 in c:\\users\\akshat rai laddha\\anaconda3\\lib\\site-packages (from spacy[cuda111,transformers]) (23.0)\n",
      "Requirement already satisfied: langcodes<4.0.0,>=3.2.0 in c:\\users\\akshat rai laddha\\anaconda3\\lib\\site-packages (from spacy[cuda111,transformers]) (3.3.0)\n",
      "Requirement already satisfied: cupy-cuda111<13.0.0,>=5.0.0b4 in c:\\users\\akshat rai laddha\\anaconda3\\lib\\site-packages (from spacy[cuda111,transformers]) (12.1.0)\n",
      "Requirement already satisfied: spacy-transformers<1.3.0,>=1.1.2 in c:\\users\\akshat rai laddha\\anaconda3\\lib\\site-packages (from spacy[cuda111,transformers]) (1.2.5)\n",
      "Requirement already satisfied: fastrlock>=0.5 in c:\\users\\akshat rai laddha\\anaconda3\\lib\\site-packages (from cupy-cuda111<13.0.0,>=5.0.0b4->spacy[cuda111,transformers]) (0.8.1)\n",
      "Requirement already satisfied: typing-extensions>=4.2.0 in c:\\users\\akshat rai laddha\\anaconda3\\lib\\site-packages (from pydantic!=1.8,!=1.8.1,<1.11.0,>=1.7.4->spacy[cuda111,transformers]) (4.5.0)\n",
      "Requirement already satisfied: charset-normalizer<4,>=2 in c:\\users\\akshat rai laddha\\anaconda3\\lib\\site-packages (from requests<3.0.0,>=2.13.0->spacy[cuda111,transformers]) (2.0.4)\n",
      "Requirement already satisfied: idna<4,>=2.5 in c:\\users\\akshat rai laddha\\anaconda3\\lib\\site-packages (from requests<3.0.0,>=2.13.0->spacy[cuda111,transformers]) (3.4)\n",
      "Requirement already satisfied: urllib3<1.27,>=1.21.1 in c:\\users\\akshat rai laddha\\anaconda3\\lib\\site-packages (from requests<3.0.0,>=2.13.0->spacy[cuda111,transformers]) (1.26.16)\n",
      "Requirement already satisfied: certifi>=2017.4.17 in c:\\users\\akshat rai laddha\\anaconda3\\lib\\site-packages (from requests<3.0.0,>=2.13.0->spacy[cuda111,transformers]) (2023.5.7)\n",
      "Requirement already satisfied: transformers<4.31.0,>=3.4.0 in c:\\users\\akshat rai laddha\\anaconda3\\lib\\site-packages (from spacy-transformers<1.3.0,>=1.1.2->spacy[cuda111,transformers]) (4.30.2)\n",
      "Requirement already satisfied: torch>=1.8.0 in c:\\users\\akshat rai laddha\\anaconda3\\lib\\site-packages (from spacy-transformers<1.3.0,>=1.1.2->spacy[cuda111,transformers]) (2.0.1)\n",
      "Requirement already satisfied: spacy-alignments<1.0.0,>=0.7.2 in c:\\users\\akshat rai laddha\\anaconda3\\lib\\site-packages (from spacy-transformers<1.3.0,>=1.1.2->spacy[cuda111,transformers]) (0.9.0)\n",
      "Requirement already satisfied: blis<0.8.0,>=0.7.8 in c:\\users\\akshat rai laddha\\anaconda3\\lib\\site-packages (from thinc<8.2.0,>=8.1.8->spacy[cuda111,transformers]) (0.7.10)\n",
      "Requirement already satisfied: confection<1.0.0,>=0.0.1 in c:\\users\\akshat rai laddha\\anaconda3\\lib\\site-packages (from thinc<8.2.0,>=8.1.8->spacy[cuda111,transformers]) (0.1.0)\n",
      "Requirement already satisfied: colorama in c:\\users\\akshat rai laddha\\anaconda3\\lib\\site-packages (from tqdm<5.0.0,>=4.38.0->spacy[cuda111,transformers]) (0.4.6)\n",
      "Requirement already satisfied: click<9.0.0,>=7.1.1 in c:\\users\\akshat rai laddha\\anaconda3\\lib\\site-packages (from typer<0.10.0,>=0.3.0->spacy[cuda111,transformers]) (8.0.4)\n",
      "Requirement already satisfied: MarkupSafe>=2.0 in c:\\users\\akshat rai laddha\\anaconda3\\lib\\site-packages (from jinja2->spacy[cuda111,transformers]) (2.1.1)\n",
      "Requirement already satisfied: filelock in c:\\users\\akshat rai laddha\\anaconda3\\lib\\site-packages (from torch>=1.8.0->spacy-transformers<1.3.0,>=1.1.2->spacy[cuda111,transformers]) (3.9.0)\n",
      "Requirement already satisfied: sympy in c:\\users\\akshat rai laddha\\anaconda3\\lib\\site-packages (from torch>=1.8.0->spacy-transformers<1.3.0,>=1.1.2->spacy[cuda111,transformers]) (1.11.1)\n",
      "Requirement already satisfied: networkx in c:\\users\\akshat rai laddha\\anaconda3\\lib\\site-packages (from torch>=1.8.0->spacy-transformers<1.3.0,>=1.1.2->spacy[cuda111,transformers]) (2.8.4)\n",
      "Requirement already satisfied: huggingface-hub<1.0,>=0.14.1 in c:\\users\\akshat rai laddha\\anaconda3\\lib\\site-packages (from transformers<4.31.0,>=3.4.0->spacy-transformers<1.3.0,>=1.1.2->spacy[cuda111,transformers]) (0.16.4)\n",
      "Requirement already satisfied: pyyaml>=5.1 in c:\\users\\akshat rai laddha\\anaconda3\\lib\\site-packages (from transformers<4.31.0,>=3.4.0->spacy-transformers<1.3.0,>=1.1.2->spacy[cuda111,transformers]) (6.0)\n",
      "Requirement already satisfied: regex!=2019.12.17 in c:\\users\\akshat rai laddha\\anaconda3\\lib\\site-packages (from transformers<4.31.0,>=3.4.0->spacy-transformers<1.3.0,>=1.1.2->spacy[cuda111,transformers]) (2022.7.9)\n",
      "Requirement already satisfied: tokenizers!=0.11.3,<0.14,>=0.11.1 in c:\\users\\akshat rai laddha\\anaconda3\\lib\\site-packages (from transformers<4.31.0,>=3.4.0->spacy-transformers<1.3.0,>=1.1.2->spacy[cuda111,transformers]) (0.13.3)\n",
      "Requirement already satisfied: safetensors>=0.3.1 in c:\\users\\akshat rai laddha\\anaconda3\\lib\\site-packages (from transformers<4.31.0,>=3.4.0->spacy-transformers<1.3.0,>=1.1.2->spacy[cuda111,transformers]) (0.3.1)\n",
      "Requirement already satisfied: fsspec in c:\\users\\akshat rai laddha\\anaconda3\\lib\\site-packages (from huggingface-hub<1.0,>=0.14.1->transformers<4.31.0,>=3.4.0->spacy-transformers<1.3.0,>=1.1.2->spacy[cuda111,transformers]) (2023.3.0)\n",
      "Requirement already satisfied: mpmath>=0.19 in c:\\users\\akshat rai laddha\\anaconda3\\lib\\site-packages (from sympy->torch>=1.8.0->spacy-transformers<1.3.0,>=1.1.2->spacy[cuda111,transformers]) (1.2.1)\n",
      "Note: you may need to restart the kernel to use updated packages.\n"
     ]
    }
   ],
   "source": [
    "pip install --upgrade spacy[cuda111,transformers]"
   ]
  },
  {
   "cell_type": "code",
   "execution_count": 15,
   "id": "495bd08f",
   "metadata": {},
   "outputs": [
    {
     "data": {
      "text/html": [
       "<span class=\"tex2jax_ignore\"><div class=\"entities\" style=\"line-height: 2.5; direction: ltr\">When \n",
       "<mark class=\"entity\" style=\"background: #aa9cfc; padding: 0.45em 0.6em; margin: 0 0.25em; line-height: 1; border-radius: 0.35em;\">\n",
       "    Sebastian Thrun\n",
       "    <span style=\"font-size: 0.8em; font-weight: bold; line-height: 1; border-radius: 0.35em; vertical-align: middle; margin-left: 0.5rem\">PERSON</span>\n",
       "</mark>\n",
       " started working on self-driving cars at \n",
       "<mark class=\"entity\" style=\"background: #7aecec; padding: 0.45em 0.6em; margin: 0 0.25em; line-height: 1; border-radius: 0.35em;\">\n",
       "    Google\n",
       "    <span style=\"font-size: 0.8em; font-weight: bold; line-height: 1; border-radius: 0.35em; vertical-align: middle; margin-left: 0.5rem\">ORG</span>\n",
       "</mark>\n",
       " in \n",
       "<mark class=\"entity\" style=\"background: #bfe1d9; padding: 0.45em 0.6em; margin: 0 0.25em; line-height: 1; border-radius: 0.35em;\">\n",
       "    2007\n",
       "    <span style=\"font-size: 0.8em; font-weight: bold; line-height: 1; border-radius: 0.35em; vertical-align: middle; margin-left: 0.5rem\">DATE</span>\n",
       "</mark>\n",
       ", few people outside of the company took him seriously. “I can tell you very senior CEOs of major \n",
       "<mark class=\"entity\" style=\"background: #c887fb; padding: 0.45em 0.6em; margin: 0 0.25em; line-height: 1; border-radius: 0.35em;\">\n",
       "    American\n",
       "    <span style=\"font-size: 0.8em; font-weight: bold; line-height: 1; border-radius: 0.35em; vertical-align: middle; margin-left: 0.5rem\">NORP</span>\n",
       "</mark>\n",
       " car companies would shake my hand and turn away because I wasn’t worth talking to,” said \n",
       "<mark class=\"entity\" style=\"background: #aa9cfc; padding: 0.45em 0.6em; margin: 0 0.25em; line-height: 1; border-radius: 0.35em;\">\n",
       "    Thrun\n",
       "    <span style=\"font-size: 0.8em; font-weight: bold; line-height: 1; border-radius: 0.35em; vertical-align: middle; margin-left: 0.5rem\">PERSON</span>\n",
       "</mark>\n",
       ", now the co-founder and CEO of online higher education startup \n",
       "<mark class=\"entity\" style=\"background: #7aecec; padding: 0.45em 0.6em; margin: 0 0.25em; line-height: 1; border-radius: 0.35em;\">\n",
       "    Udacity\n",
       "    <span style=\"font-size: 0.8em; font-weight: bold; line-height: 1; border-radius: 0.35em; vertical-align: middle; margin-left: 0.5rem\">ORG</span>\n",
       "</mark>\n",
       ", in an interview with \n",
       "<mark class=\"entity\" style=\"background: #7aecec; padding: 0.45em 0.6em; margin: 0 0.25em; line-height: 1; border-radius: 0.35em;\">\n",
       "    Recode\n",
       "    <span style=\"font-size: 0.8em; font-weight: bold; line-height: 1; border-radius: 0.35em; vertical-align: middle; margin-left: 0.5rem\">ORG</span>\n",
       "</mark>\n",
       " \n",
       "<mark class=\"entity\" style=\"background: #bfe1d9; padding: 0.45em 0.6em; margin: 0 0.25em; line-height: 1; border-radius: 0.35em;\">\n",
       "    earlier this week\n",
       "    <span style=\"font-size: 0.8em; font-weight: bold; line-height: 1; border-radius: 0.35em; vertical-align: middle; margin-left: 0.5rem\">DATE</span>\n",
       "</mark>\n",
       ". \n",
       "<mark class=\"entity\" style=\"background: #bfe1d9; padding: 0.45em 0.6em; margin: 0 0.25em; line-height: 1; border-radius: 0.35em;\">\n",
       "    A little less than a decade later\n",
       "    <span style=\"font-size: 0.8em; font-weight: bold; line-height: 1; border-radius: 0.35em; vertical-align: middle; margin-left: 0.5rem\">DATE</span>\n",
       "</mark>\n",
       ", \n",
       "<mark class=\"entity\" style=\"background: #e4e7d2; padding: 0.45em 0.6em; margin: 0 0.25em; line-height: 1; border-radius: 0.35em;\">\n",
       "    dozens\n",
       "    <span style=\"font-size: 0.8em; font-weight: bold; line-height: 1; border-radius: 0.35em; vertical-align: middle; margin-left: 0.5rem\">CARDINAL</span>\n",
       "</mark>\n",
       " of self-driving startups have cropped up while automakers around the world clamor, wallet in hand, to secure their place in the fast-moving world of fully automated transportation.</div></span>"
      ],
      "text/plain": [
       "<IPython.core.display.HTML object>"
      ]
     },
     "metadata": {},
     "output_type": "display_data"
    }
   ],
   "source": [
    "import spacy\n",
    "from spacy import displacy\n",
    "nlp_trf = spacy.load(\"en_core_web_trf\")\n",
    "\n",
    "doc = nlp_trf(text)\n",
    "displacy.render(doc, style=\"ent\")"
   ]
  },
  {
   "cell_type": "markdown",
   "id": "13dff912",
   "metadata": {},
   "source": [
    "info about spacy englishh transformer based model: https://spacy.io/models/en#en_core_web_trf"
   ]
  },
  {
   "cell_type": "markdown",
   "id": "16ba8790",
   "metadata": {},
   "source": [
    "### Successfully extracted entities with different labels such as Person, Organization, Location, Skills , Miscellaneous etc. Finalized model: Spacy Model [en transformer] : less efforts but with model stacking concept we can use different model attributes based on the requirement "
   ]
  },
  {
   "cell_type": "code",
   "execution_count": 16,
   "id": "8d573277",
   "metadata": {},
   "outputs": [
    {
     "name": "stdout",
     "output_type": "stream",
     "text": [
      "Entity: Sebastian Thrun | Label: PERSON\n",
      "Entity: Google | Label: ORG\n",
      "Entity: 2007 | Label: DATE\n",
      "Entity: American | Label: NORP\n",
      "Entity: Thrun | Label: PERSON\n",
      "Entity: Udacity | Label: ORG\n",
      "Entity: Recode | Label: ORG\n",
      "Entity: earlier this week | Label: DATE\n",
      "Entity: A little less than a decade later | Label: DATE\n",
      "Entity: dozens | Label: CARDINAL\n"
     ]
    }
   ],
   "source": [
    "for ent in doc.ents:\n",
    "    print(f\"Entity: {ent.text} | Label: {ent.label_}\")"
   ]
  },
  {
   "cell_type": "code",
   "execution_count": 17,
   "id": "bc790fe6",
   "metadata": {},
   "outputs": [
    {
     "name": "stdout",
     "output_type": "stream",
     "text": [
      "['CARDINAL', 'DATE', 'EVENT', 'FAC', 'GPE', 'LANGUAGE', 'LAW', 'LOC', 'MONEY', 'NORP', 'ORDINAL', 'ORG', 'PERCENT', 'PERSON', 'PRODUCT', 'QUANTITY', 'TIME', 'WORK_OF_ART']\n"
     ]
    }
   ],
   "source": [
    "nlp=spacy.load(\"en_core_web_trf\") #transformer based model : model used is RoBERTa\n",
    "unique_labels = list(nlp.get_pipe(\"ner\").labels)\n",
    "\n",
    "# Print the unique labels\n",
    "print(unique_labels)"
   ]
  },
  {
   "cell_type": "markdown",
   "id": "f08e210b",
   "metadata": {},
   "source": [
    "The nlp.pipe() function efficiently processes the texts in batches and yields processed Doc objects one by one."
   ]
  },
  {
   "cell_type": "markdown",
   "id": "9492df91",
   "metadata": {},
   "source": [
    "# Relationship Extraction Task"
   ]
  },
  {
   "cell_type": "markdown",
   "id": "6377faa5",
   "metadata": {},
   "source": [
    "For explicit relationship, we can identify relational information between entities directly just by mapping it with each other but for implicit relationship we need to understand the grammatical formation btw entities . So using Spacy dependency parsing concept here "
   ]
  },
  {
   "cell_type": "markdown",
   "id": "add02bf6",
   "metadata": {},
   "source": [
    "#### following this notebook : https://colab.research.google.com/drive/1lS3B7v_BHzRcynDEaPSz-aJ4wiA_n1Q-#scrollTo=CzWFRpeQX5z6 "
   ]
  },
  {
   "cell_type": "code",
   "execution_count": 18,
   "id": "2da3184b",
   "metadata": {},
   "outputs": [
    {
     "data": {
      "text/plain": [
       "[('When', 'O-'),\n",
       " ('Sebastian', 'B-PERSON'),\n",
       " ('Thrun', 'I-PERSON'),\n",
       " ('started', 'O-'),\n",
       " ('working', 'O-'),\n",
       " ('on', 'O-'),\n",
       " ('self', 'O-'),\n",
       " ('-', 'O-'),\n",
       " ('driving', 'O-'),\n",
       " ('cars', 'O-'),\n",
       " ('at', 'O-'),\n",
       " ('Google', 'B-ORG'),\n",
       " ('in', 'O-'),\n",
       " ('2007', 'B-DATE'),\n",
       " (',', 'O-'),\n",
       " ('few', 'O-'),\n",
       " ('people', 'O-'),\n",
       " ('outside', 'O-'),\n",
       " ('of', 'O-'),\n",
       " ('the', 'O-'),\n",
       " ('company', 'O-'),\n",
       " ('took', 'O-'),\n",
       " ('him', 'O-'),\n",
       " ('seriously', 'O-'),\n",
       " ('.', 'O-'),\n",
       " ('“', 'O-'),\n",
       " ('I', 'O-'),\n",
       " ('can', 'O-'),\n",
       " ('tell', 'O-'),\n",
       " ('you', 'O-'),\n",
       " ('very', 'O-'),\n",
       " ('senior', 'O-'),\n",
       " ('CEOs', 'O-'),\n",
       " ('of', 'O-'),\n",
       " ('major', 'O-'),\n",
       " ('American', 'B-NORP'),\n",
       " ('car', 'O-'),\n",
       " ('companies', 'O-'),\n",
       " ('would', 'O-'),\n",
       " ('shake', 'O-'),\n",
       " ('my', 'O-'),\n",
       " ('hand', 'O-'),\n",
       " ('and', 'O-'),\n",
       " ('turn', 'O-'),\n",
       " ('away', 'O-'),\n",
       " ('because', 'O-'),\n",
       " ('I', 'O-'),\n",
       " ('was', 'O-'),\n",
       " ('n’t', 'O-'),\n",
       " ('worth', 'O-'),\n",
       " ('talking', 'O-'),\n",
       " ('to', 'O-'),\n",
       " (',', 'O-'),\n",
       " ('”', 'O-'),\n",
       " ('said', 'O-'),\n",
       " ('Thrun', 'B-PERSON'),\n",
       " (',', 'O-'),\n",
       " ('now', 'O-'),\n",
       " ('the', 'O-'),\n",
       " ('co', 'O-'),\n",
       " ('-', 'O-'),\n",
       " ('founder', 'O-'),\n",
       " ('and', 'O-'),\n",
       " ('CEO', 'O-'),\n",
       " ('of', 'O-'),\n",
       " ('online', 'O-'),\n",
       " ('higher', 'O-'),\n",
       " ('education', 'O-'),\n",
       " ('startup', 'O-'),\n",
       " ('Udacity', 'B-ORG'),\n",
       " (',', 'O-'),\n",
       " ('in', 'O-'),\n",
       " ('an', 'O-'),\n",
       " ('interview', 'O-'),\n",
       " ('with', 'O-'),\n",
       " ('Recode', 'B-ORG'),\n",
       " ('earlier', 'B-DATE'),\n",
       " ('this', 'I-DATE'),\n",
       " ('week', 'I-DATE'),\n",
       " ('.', 'O-'),\n",
       " ('A', 'B-DATE'),\n",
       " ('little', 'I-DATE'),\n",
       " ('less', 'I-DATE'),\n",
       " ('than', 'I-DATE'),\n",
       " ('a', 'I-DATE'),\n",
       " ('decade', 'I-DATE'),\n",
       " ('later', 'I-DATE'),\n",
       " (',', 'O-'),\n",
       " ('dozens', 'B-CARDINAL'),\n",
       " ('of', 'O-'),\n",
       " ('self', 'O-'),\n",
       " ('-', 'O-'),\n",
       " ('driving', 'O-'),\n",
       " ('startups', 'O-'),\n",
       " ('have', 'O-'),\n",
       " ('cropped', 'O-'),\n",
       " ('up', 'O-'),\n",
       " ('while', 'O-'),\n",
       " ('automakers', 'O-'),\n",
       " ('around', 'O-'),\n",
       " ('the', 'O-'),\n",
       " ('world', 'O-'),\n",
       " ('clamor', 'O-'),\n",
       " (',', 'O-'),\n",
       " ('wallet', 'O-'),\n",
       " ('in', 'O-'),\n",
       " ('hand', 'O-'),\n",
       " (',', 'O-'),\n",
       " ('to', 'O-'),\n",
       " ('secure', 'O-'),\n",
       " ('their', 'O-'),\n",
       " ('place', 'O-'),\n",
       " ('in', 'O-'),\n",
       " ('the', 'O-'),\n",
       " ('fast', 'O-'),\n",
       " ('-', 'O-'),\n",
       " ('moving', 'O-'),\n",
       " ('world', 'O-'),\n",
       " ('of', 'O-'),\n",
       " ('fully', 'O-'),\n",
       " ('automated', 'O-'),\n",
       " ('transportation', 'O-'),\n",
       " ('.', 'O-')]"
      ]
     },
     "execution_count": 18,
     "metadata": {},
     "output_type": "execute_result"
    }
   ],
   "source": [
    "[(i.text, i.ent_iob_ + \"-\" + i.ent_type_) for i in doc]\n",
    "# to get info about all the tokens and labels assigned to it "
   ]
  },
  {
   "cell_type": "markdown",
   "id": "041426ba",
   "metadata": {},
   "source": [
    "we will be using these tokens in dependecy parsing to understand contextual information. "
   ]
  },
  {
   "cell_type": "markdown",
   "id": "b4c0ed24",
   "metadata": {},
   "source": [
    "once we've embedded our tokens, we want to encode them in a way incorporates their context in the sentence and their role in the downstream task. (E.g., \"security\" has a very different meaning if it's preceeded by \"national\" or \"social\"). BERT takes care of this part as it covers context of word birdirectionally "
   ]
  },
  {
   "cell_type": "code",
   "execution_count": 21,
   "id": "f54f6236",
   "metadata": {},
   "outputs": [
    {
     "data": {
      "text/html": [
       "<span class=\"tex2jax_ignore\"><svg xmlns=\"http://www.w3.org/2000/svg\" xmlns:xlink=\"http://www.w3.org/1999/xlink\" xml:lang=\"en\" id=\"0af7143234ba451c9a02d5b646f0eaa8-0\" class=\"displacy\" width=\"6525\" height=\"574.5\" direction=\"ltr\" style=\"max-width: none; height: 574.5px; color: #000000; background: #ffffff; font-family: Arial; direction: ltr\">\n",
       "<text class=\"displacy-token\" fill=\"currentColor\" text-anchor=\"middle\" y=\"484.5\">\n",
       "    <tspan class=\"displacy-word\" fill=\"currentColor\" x=\"50\">A</tspan>\n",
       "    <tspan class=\"displacy-tag\" dy=\"2em\" fill=\"currentColor\" x=\"50\">DET</tspan>\n",
       "</text>\n",
       "\n",
       "<text class=\"displacy-token\" fill=\"currentColor\" text-anchor=\"middle\" y=\"484.5\">\n",
       "    <tspan class=\"displacy-word\" fill=\"currentColor\" x=\"225\">little</tspan>\n",
       "    <tspan class=\"displacy-tag\" dy=\"2em\" fill=\"currentColor\" x=\"225\">ADJ</tspan>\n",
       "</text>\n",
       "\n",
       "<text class=\"displacy-token\" fill=\"currentColor\" text-anchor=\"middle\" y=\"484.5\">\n",
       "    <tspan class=\"displacy-word\" fill=\"currentColor\" x=\"400\">less</tspan>\n",
       "    <tspan class=\"displacy-tag\" dy=\"2em\" fill=\"currentColor\" x=\"400\">ADJ</tspan>\n",
       "</text>\n",
       "\n",
       "<text class=\"displacy-token\" fill=\"currentColor\" text-anchor=\"middle\" y=\"484.5\">\n",
       "    <tspan class=\"displacy-word\" fill=\"currentColor\" x=\"575\">than</tspan>\n",
       "    <tspan class=\"displacy-tag\" dy=\"2em\" fill=\"currentColor\" x=\"575\">ADP</tspan>\n",
       "</text>\n",
       "\n",
       "<text class=\"displacy-token\" fill=\"currentColor\" text-anchor=\"middle\" y=\"484.5\">\n",
       "    <tspan class=\"displacy-word\" fill=\"currentColor\" x=\"750\">a</tspan>\n",
       "    <tspan class=\"displacy-tag\" dy=\"2em\" fill=\"currentColor\" x=\"750\">DET</tspan>\n",
       "</text>\n",
       "\n",
       "<text class=\"displacy-token\" fill=\"currentColor\" text-anchor=\"middle\" y=\"484.5\">\n",
       "    <tspan class=\"displacy-word\" fill=\"currentColor\" x=\"925\">decade</tspan>\n",
       "    <tspan class=\"displacy-tag\" dy=\"2em\" fill=\"currentColor\" x=\"925\">NOUN</tspan>\n",
       "</text>\n",
       "\n",
       "<text class=\"displacy-token\" fill=\"currentColor\" text-anchor=\"middle\" y=\"484.5\">\n",
       "    <tspan class=\"displacy-word\" fill=\"currentColor\" x=\"1100\">later,</tspan>\n",
       "    <tspan class=\"displacy-tag\" dy=\"2em\" fill=\"currentColor\" x=\"1100\">ADV</tspan>\n",
       "</text>\n",
       "\n",
       "<text class=\"displacy-token\" fill=\"currentColor\" text-anchor=\"middle\" y=\"484.5\">\n",
       "    <tspan class=\"displacy-word\" fill=\"currentColor\" x=\"1275\">dozens</tspan>\n",
       "    <tspan class=\"displacy-tag\" dy=\"2em\" fill=\"currentColor\" x=\"1275\">NOUN</tspan>\n",
       "</text>\n",
       "\n",
       "<text class=\"displacy-token\" fill=\"currentColor\" text-anchor=\"middle\" y=\"484.5\">\n",
       "    <tspan class=\"displacy-word\" fill=\"currentColor\" x=\"1450\">of</tspan>\n",
       "    <tspan class=\"displacy-tag\" dy=\"2em\" fill=\"currentColor\" x=\"1450\">ADP</tspan>\n",
       "</text>\n",
       "\n",
       "<text class=\"displacy-token\" fill=\"currentColor\" text-anchor=\"middle\" y=\"484.5\">\n",
       "    <tspan class=\"displacy-word\" fill=\"currentColor\" x=\"1625\">self-</tspan>\n",
       "    <tspan class=\"displacy-tag\" dy=\"2em\" fill=\"currentColor\" x=\"1625\">NOUN</tspan>\n",
       "</text>\n",
       "\n",
       "<text class=\"displacy-token\" fill=\"currentColor\" text-anchor=\"middle\" y=\"484.5\">\n",
       "    <tspan class=\"displacy-word\" fill=\"currentColor\" x=\"1800\">driving</tspan>\n",
       "    <tspan class=\"displacy-tag\" dy=\"2em\" fill=\"currentColor\" x=\"1800\">VERB</tspan>\n",
       "</text>\n",
       "\n",
       "<text class=\"displacy-token\" fill=\"currentColor\" text-anchor=\"middle\" y=\"484.5\">\n",
       "    <tspan class=\"displacy-word\" fill=\"currentColor\" x=\"1975\">startups</tspan>\n",
       "    <tspan class=\"displacy-tag\" dy=\"2em\" fill=\"currentColor\" x=\"1975\">NOUN</tspan>\n",
       "</text>\n",
       "\n",
       "<text class=\"displacy-token\" fill=\"currentColor\" text-anchor=\"middle\" y=\"484.5\">\n",
       "    <tspan class=\"displacy-word\" fill=\"currentColor\" x=\"2150\">have</tspan>\n",
       "    <tspan class=\"displacy-tag\" dy=\"2em\" fill=\"currentColor\" x=\"2150\">AUX</tspan>\n",
       "</text>\n",
       "\n",
       "<text class=\"displacy-token\" fill=\"currentColor\" text-anchor=\"middle\" y=\"484.5\">\n",
       "    <tspan class=\"displacy-word\" fill=\"currentColor\" x=\"2325\">cropped</tspan>\n",
       "    <tspan class=\"displacy-tag\" dy=\"2em\" fill=\"currentColor\" x=\"2325\">VERB</tspan>\n",
       "</text>\n",
       "\n",
       "<text class=\"displacy-token\" fill=\"currentColor\" text-anchor=\"middle\" y=\"484.5\">\n",
       "    <tspan class=\"displacy-word\" fill=\"currentColor\" x=\"2500\">up</tspan>\n",
       "    <tspan class=\"displacy-tag\" dy=\"2em\" fill=\"currentColor\" x=\"2500\">ADP</tspan>\n",
       "</text>\n",
       "\n",
       "<text class=\"displacy-token\" fill=\"currentColor\" text-anchor=\"middle\" y=\"484.5\">\n",
       "    <tspan class=\"displacy-word\" fill=\"currentColor\" x=\"2675\">while</tspan>\n",
       "    <tspan class=\"displacy-tag\" dy=\"2em\" fill=\"currentColor\" x=\"2675\">SCONJ</tspan>\n",
       "</text>\n",
       "\n",
       "<text class=\"displacy-token\" fill=\"currentColor\" text-anchor=\"middle\" y=\"484.5\">\n",
       "    <tspan class=\"displacy-word\" fill=\"currentColor\" x=\"2850\">automakers</tspan>\n",
       "    <tspan class=\"displacy-tag\" dy=\"2em\" fill=\"currentColor\" x=\"2850\">NOUN</tspan>\n",
       "</text>\n",
       "\n",
       "<text class=\"displacy-token\" fill=\"currentColor\" text-anchor=\"middle\" y=\"484.5\">\n",
       "    <tspan class=\"displacy-word\" fill=\"currentColor\" x=\"3025\">around</tspan>\n",
       "    <tspan class=\"displacy-tag\" dy=\"2em\" fill=\"currentColor\" x=\"3025\">ADP</tspan>\n",
       "</text>\n",
       "\n",
       "<text class=\"displacy-token\" fill=\"currentColor\" text-anchor=\"middle\" y=\"484.5\">\n",
       "    <tspan class=\"displacy-word\" fill=\"currentColor\" x=\"3200\">the</tspan>\n",
       "    <tspan class=\"displacy-tag\" dy=\"2em\" fill=\"currentColor\" x=\"3200\">DET</tspan>\n",
       "</text>\n",
       "\n",
       "<text class=\"displacy-token\" fill=\"currentColor\" text-anchor=\"middle\" y=\"484.5\">\n",
       "    <tspan class=\"displacy-word\" fill=\"currentColor\" x=\"3375\">world</tspan>\n",
       "    <tspan class=\"displacy-tag\" dy=\"2em\" fill=\"currentColor\" x=\"3375\">NOUN</tspan>\n",
       "</text>\n",
       "\n",
       "<text class=\"displacy-token\" fill=\"currentColor\" text-anchor=\"middle\" y=\"484.5\">\n",
       "    <tspan class=\"displacy-word\" fill=\"currentColor\" x=\"3550\">clamor,</tspan>\n",
       "    <tspan class=\"displacy-tag\" dy=\"2em\" fill=\"currentColor\" x=\"3550\">VERB</tspan>\n",
       "</text>\n",
       "\n",
       "<text class=\"displacy-token\" fill=\"currentColor\" text-anchor=\"middle\" y=\"484.5\">\n",
       "    <tspan class=\"displacy-word\" fill=\"currentColor\" x=\"3725\">wallet</tspan>\n",
       "    <tspan class=\"displacy-tag\" dy=\"2em\" fill=\"currentColor\" x=\"3725\">NOUN</tspan>\n",
       "</text>\n",
       "\n",
       "<text class=\"displacy-token\" fill=\"currentColor\" text-anchor=\"middle\" y=\"484.5\">\n",
       "    <tspan class=\"displacy-word\" fill=\"currentColor\" x=\"3900\">in</tspan>\n",
       "    <tspan class=\"displacy-tag\" dy=\"2em\" fill=\"currentColor\" x=\"3900\">ADP</tspan>\n",
       "</text>\n",
       "\n",
       "<text class=\"displacy-token\" fill=\"currentColor\" text-anchor=\"middle\" y=\"484.5\">\n",
       "    <tspan class=\"displacy-word\" fill=\"currentColor\" x=\"4075\">hand,</tspan>\n",
       "    <tspan class=\"displacy-tag\" dy=\"2em\" fill=\"currentColor\" x=\"4075\">NOUN</tspan>\n",
       "</text>\n",
       "\n",
       "<text class=\"displacy-token\" fill=\"currentColor\" text-anchor=\"middle\" y=\"484.5\">\n",
       "    <tspan class=\"displacy-word\" fill=\"currentColor\" x=\"4250\">to</tspan>\n",
       "    <tspan class=\"displacy-tag\" dy=\"2em\" fill=\"currentColor\" x=\"4250\">PART</tspan>\n",
       "</text>\n",
       "\n",
       "<text class=\"displacy-token\" fill=\"currentColor\" text-anchor=\"middle\" y=\"484.5\">\n",
       "    <tspan class=\"displacy-word\" fill=\"currentColor\" x=\"4425\">secure</tspan>\n",
       "    <tspan class=\"displacy-tag\" dy=\"2em\" fill=\"currentColor\" x=\"4425\">VERB</tspan>\n",
       "</text>\n",
       "\n",
       "<text class=\"displacy-token\" fill=\"currentColor\" text-anchor=\"middle\" y=\"484.5\">\n",
       "    <tspan class=\"displacy-word\" fill=\"currentColor\" x=\"4600\">their</tspan>\n",
       "    <tspan class=\"displacy-tag\" dy=\"2em\" fill=\"currentColor\" x=\"4600\">PRON</tspan>\n",
       "</text>\n",
       "\n",
       "<text class=\"displacy-token\" fill=\"currentColor\" text-anchor=\"middle\" y=\"484.5\">\n",
       "    <tspan class=\"displacy-word\" fill=\"currentColor\" x=\"4775\">place</tspan>\n",
       "    <tspan class=\"displacy-tag\" dy=\"2em\" fill=\"currentColor\" x=\"4775\">NOUN</tspan>\n",
       "</text>\n",
       "\n",
       "<text class=\"displacy-token\" fill=\"currentColor\" text-anchor=\"middle\" y=\"484.5\">\n",
       "    <tspan class=\"displacy-word\" fill=\"currentColor\" x=\"4950\">in</tspan>\n",
       "    <tspan class=\"displacy-tag\" dy=\"2em\" fill=\"currentColor\" x=\"4950\">ADP</tspan>\n",
       "</text>\n",
       "\n",
       "<text class=\"displacy-token\" fill=\"currentColor\" text-anchor=\"middle\" y=\"484.5\">\n",
       "    <tspan class=\"displacy-word\" fill=\"currentColor\" x=\"5125\">the</tspan>\n",
       "    <tspan class=\"displacy-tag\" dy=\"2em\" fill=\"currentColor\" x=\"5125\">DET</tspan>\n",
       "</text>\n",
       "\n",
       "<text class=\"displacy-token\" fill=\"currentColor\" text-anchor=\"middle\" y=\"484.5\">\n",
       "    <tspan class=\"displacy-word\" fill=\"currentColor\" x=\"5300\">fast-</tspan>\n",
       "    <tspan class=\"displacy-tag\" dy=\"2em\" fill=\"currentColor\" x=\"5300\">ADV</tspan>\n",
       "</text>\n",
       "\n",
       "<text class=\"displacy-token\" fill=\"currentColor\" text-anchor=\"middle\" y=\"484.5\">\n",
       "    <tspan class=\"displacy-word\" fill=\"currentColor\" x=\"5475\">moving</tspan>\n",
       "    <tspan class=\"displacy-tag\" dy=\"2em\" fill=\"currentColor\" x=\"5475\">VERB</tspan>\n",
       "</text>\n",
       "\n",
       "<text class=\"displacy-token\" fill=\"currentColor\" text-anchor=\"middle\" y=\"484.5\">\n",
       "    <tspan class=\"displacy-word\" fill=\"currentColor\" x=\"5650\">world</tspan>\n",
       "    <tspan class=\"displacy-tag\" dy=\"2em\" fill=\"currentColor\" x=\"5650\">NOUN</tspan>\n",
       "</text>\n",
       "\n",
       "<text class=\"displacy-token\" fill=\"currentColor\" text-anchor=\"middle\" y=\"484.5\">\n",
       "    <tspan class=\"displacy-word\" fill=\"currentColor\" x=\"5825\">of</tspan>\n",
       "    <tspan class=\"displacy-tag\" dy=\"2em\" fill=\"currentColor\" x=\"5825\">ADP</tspan>\n",
       "</text>\n",
       "\n",
       "<text class=\"displacy-token\" fill=\"currentColor\" text-anchor=\"middle\" y=\"484.5\">\n",
       "    <tspan class=\"displacy-word\" fill=\"currentColor\" x=\"6000\">fully</tspan>\n",
       "    <tspan class=\"displacy-tag\" dy=\"2em\" fill=\"currentColor\" x=\"6000\">ADV</tspan>\n",
       "</text>\n",
       "\n",
       "<text class=\"displacy-token\" fill=\"currentColor\" text-anchor=\"middle\" y=\"484.5\">\n",
       "    <tspan class=\"displacy-word\" fill=\"currentColor\" x=\"6175\">automated</tspan>\n",
       "    <tspan class=\"displacy-tag\" dy=\"2em\" fill=\"currentColor\" x=\"6175\">VERB</tspan>\n",
       "</text>\n",
       "\n",
       "<text class=\"displacy-token\" fill=\"currentColor\" text-anchor=\"middle\" y=\"484.5\">\n",
       "    <tspan class=\"displacy-word\" fill=\"currentColor\" x=\"6350\">transportation.</tspan>\n",
       "    <tspan class=\"displacy-tag\" dy=\"2em\" fill=\"currentColor\" x=\"6350\">NOUN</tspan>\n",
       "</text>\n",
       "\n",
       "<g class=\"displacy-arrow\">\n",
       "    <path class=\"displacy-arc\" id=\"arrow-0af7143234ba451c9a02d5b646f0eaa8-0-0\" stroke-width=\"2px\" d=\"M70,439.5 C70,352.0 205.0,352.0 205.0,439.5\" fill=\"none\" stroke=\"currentColor\"/>\n",
       "    <text dy=\"1.25em\" style=\"font-size: 0.8em; letter-spacing: 1px\">\n",
       "        <textPath xlink:href=\"#arrow-0af7143234ba451c9a02d5b646f0eaa8-0-0\" class=\"displacy-label\" startOffset=\"50%\" side=\"left\" fill=\"currentColor\" text-anchor=\"middle\">det</textPath>\n",
       "    </text>\n",
       "    <path class=\"displacy-arrowhead\" d=\"M70,441.5 L62,429.5 78,429.5\" fill=\"currentColor\"/>\n",
       "</g>\n",
       "\n",
       "<g class=\"displacy-arrow\">\n",
       "    <path class=\"displacy-arc\" id=\"arrow-0af7143234ba451c9a02d5b646f0eaa8-0-1\" stroke-width=\"2px\" d=\"M245,439.5 C245,352.0 380.0,352.0 380.0,439.5\" fill=\"none\" stroke=\"currentColor\"/>\n",
       "    <text dy=\"1.25em\" style=\"font-size: 0.8em; letter-spacing: 1px\">\n",
       "        <textPath xlink:href=\"#arrow-0af7143234ba451c9a02d5b646f0eaa8-0-1\" class=\"displacy-label\" startOffset=\"50%\" side=\"left\" fill=\"currentColor\" text-anchor=\"middle\">npadvmod</textPath>\n",
       "    </text>\n",
       "    <path class=\"displacy-arrowhead\" d=\"M245,441.5 L237,429.5 253,429.5\" fill=\"currentColor\"/>\n",
       "</g>\n",
       "\n",
       "<g class=\"displacy-arrow\">\n",
       "    <path class=\"displacy-arc\" id=\"arrow-0af7143234ba451c9a02d5b646f0eaa8-0-2\" stroke-width=\"2px\" d=\"M420,439.5 C420,177.0 1090.0,177.0 1090.0,439.5\" fill=\"none\" stroke=\"currentColor\"/>\n",
       "    <text dy=\"1.25em\" style=\"font-size: 0.8em; letter-spacing: 1px\">\n",
       "        <textPath xlink:href=\"#arrow-0af7143234ba451c9a02d5b646f0eaa8-0-2\" class=\"displacy-label\" startOffset=\"50%\" side=\"left\" fill=\"currentColor\" text-anchor=\"middle\">npadvmod</textPath>\n",
       "    </text>\n",
       "    <path class=\"displacy-arrowhead\" d=\"M420,441.5 L412,429.5 428,429.5\" fill=\"currentColor\"/>\n",
       "</g>\n",
       "\n",
       "<g class=\"displacy-arrow\">\n",
       "    <path class=\"displacy-arc\" id=\"arrow-0af7143234ba451c9a02d5b646f0eaa8-0-3\" stroke-width=\"2px\" d=\"M420,439.5 C420,352.0 555.0,352.0 555.0,439.5\" fill=\"none\" stroke=\"currentColor\"/>\n",
       "    <text dy=\"1.25em\" style=\"font-size: 0.8em; letter-spacing: 1px\">\n",
       "        <textPath xlink:href=\"#arrow-0af7143234ba451c9a02d5b646f0eaa8-0-3\" class=\"displacy-label\" startOffset=\"50%\" side=\"left\" fill=\"currentColor\" text-anchor=\"middle\">prep</textPath>\n",
       "    </text>\n",
       "    <path class=\"displacy-arrowhead\" d=\"M555.0,441.5 L563.0,429.5 547.0,429.5\" fill=\"currentColor\"/>\n",
       "</g>\n",
       "\n",
       "<g class=\"displacy-arrow\">\n",
       "    <path class=\"displacy-arc\" id=\"arrow-0af7143234ba451c9a02d5b646f0eaa8-0-4\" stroke-width=\"2px\" d=\"M770,439.5 C770,352.0 905.0,352.0 905.0,439.5\" fill=\"none\" stroke=\"currentColor\"/>\n",
       "    <text dy=\"1.25em\" style=\"font-size: 0.8em; letter-spacing: 1px\">\n",
       "        <textPath xlink:href=\"#arrow-0af7143234ba451c9a02d5b646f0eaa8-0-4\" class=\"displacy-label\" startOffset=\"50%\" side=\"left\" fill=\"currentColor\" text-anchor=\"middle\">det</textPath>\n",
       "    </text>\n",
       "    <path class=\"displacy-arrowhead\" d=\"M770,441.5 L762,429.5 778,429.5\" fill=\"currentColor\"/>\n",
       "</g>\n",
       "\n",
       "<g class=\"displacy-arrow\">\n",
       "    <path class=\"displacy-arc\" id=\"arrow-0af7143234ba451c9a02d5b646f0eaa8-0-5\" stroke-width=\"2px\" d=\"M595,439.5 C595,264.5 910.0,264.5 910.0,439.5\" fill=\"none\" stroke=\"currentColor\"/>\n",
       "    <text dy=\"1.25em\" style=\"font-size: 0.8em; letter-spacing: 1px\">\n",
       "        <textPath xlink:href=\"#arrow-0af7143234ba451c9a02d5b646f0eaa8-0-5\" class=\"displacy-label\" startOffset=\"50%\" side=\"left\" fill=\"currentColor\" text-anchor=\"middle\">pobj</textPath>\n",
       "    </text>\n",
       "    <path class=\"displacy-arrowhead\" d=\"M910.0,441.5 L918.0,429.5 902.0,429.5\" fill=\"currentColor\"/>\n",
       "</g>\n",
       "\n",
       "<g class=\"displacy-arrow\">\n",
       "    <path class=\"displacy-arc\" id=\"arrow-0af7143234ba451c9a02d5b646f0eaa8-0-6\" stroke-width=\"2px\" d=\"M1120,439.5 C1120,89.5 2320.0,89.5 2320.0,439.5\" fill=\"none\" stroke=\"currentColor\"/>\n",
       "    <text dy=\"1.25em\" style=\"font-size: 0.8em; letter-spacing: 1px\">\n",
       "        <textPath xlink:href=\"#arrow-0af7143234ba451c9a02d5b646f0eaa8-0-6\" class=\"displacy-label\" startOffset=\"50%\" side=\"left\" fill=\"currentColor\" text-anchor=\"middle\">advmod</textPath>\n",
       "    </text>\n",
       "    <path class=\"displacy-arrowhead\" d=\"M1120,441.5 L1112,429.5 1128,429.5\" fill=\"currentColor\"/>\n",
       "</g>\n",
       "\n",
       "<g class=\"displacy-arrow\">\n",
       "    <path class=\"displacy-arc\" id=\"arrow-0af7143234ba451c9a02d5b646f0eaa8-0-7\" stroke-width=\"2px\" d=\"M1295,439.5 C1295,177.0 2315.0,177.0 2315.0,439.5\" fill=\"none\" stroke=\"currentColor\"/>\n",
       "    <text dy=\"1.25em\" style=\"font-size: 0.8em; letter-spacing: 1px\">\n",
       "        <textPath xlink:href=\"#arrow-0af7143234ba451c9a02d5b646f0eaa8-0-7\" class=\"displacy-label\" startOffset=\"50%\" side=\"left\" fill=\"currentColor\" text-anchor=\"middle\">nsubj</textPath>\n",
       "    </text>\n",
       "    <path class=\"displacy-arrowhead\" d=\"M1295,441.5 L1287,429.5 1303,429.5\" fill=\"currentColor\"/>\n",
       "</g>\n",
       "\n",
       "<g class=\"displacy-arrow\">\n",
       "    <path class=\"displacy-arc\" id=\"arrow-0af7143234ba451c9a02d5b646f0eaa8-0-8\" stroke-width=\"2px\" d=\"M1295,439.5 C1295,352.0 1430.0,352.0 1430.0,439.5\" fill=\"none\" stroke=\"currentColor\"/>\n",
       "    <text dy=\"1.25em\" style=\"font-size: 0.8em; letter-spacing: 1px\">\n",
       "        <textPath xlink:href=\"#arrow-0af7143234ba451c9a02d5b646f0eaa8-0-8\" class=\"displacy-label\" startOffset=\"50%\" side=\"left\" fill=\"currentColor\" text-anchor=\"middle\">prep</textPath>\n",
       "    </text>\n",
       "    <path class=\"displacy-arrowhead\" d=\"M1430.0,441.5 L1438.0,429.5 1422.0,429.5\" fill=\"currentColor\"/>\n",
       "</g>\n",
       "\n",
       "<g class=\"displacy-arrow\">\n",
       "    <path class=\"displacy-arc\" id=\"arrow-0af7143234ba451c9a02d5b646f0eaa8-0-9\" stroke-width=\"2px\" d=\"M1645,439.5 C1645,352.0 1780.0,352.0 1780.0,439.5\" fill=\"none\" stroke=\"currentColor\"/>\n",
       "    <text dy=\"1.25em\" style=\"font-size: 0.8em; letter-spacing: 1px\">\n",
       "        <textPath xlink:href=\"#arrow-0af7143234ba451c9a02d5b646f0eaa8-0-9\" class=\"displacy-label\" startOffset=\"50%\" side=\"left\" fill=\"currentColor\" text-anchor=\"middle\">npadvmod</textPath>\n",
       "    </text>\n",
       "    <path class=\"displacy-arrowhead\" d=\"M1645,441.5 L1637,429.5 1653,429.5\" fill=\"currentColor\"/>\n",
       "</g>\n",
       "\n",
       "<g class=\"displacy-arrow\">\n",
       "    <path class=\"displacy-arc\" id=\"arrow-0af7143234ba451c9a02d5b646f0eaa8-0-10\" stroke-width=\"2px\" d=\"M1820,439.5 C1820,352.0 1955.0,352.0 1955.0,439.5\" fill=\"none\" stroke=\"currentColor\"/>\n",
       "    <text dy=\"1.25em\" style=\"font-size: 0.8em; letter-spacing: 1px\">\n",
       "        <textPath xlink:href=\"#arrow-0af7143234ba451c9a02d5b646f0eaa8-0-10\" class=\"displacy-label\" startOffset=\"50%\" side=\"left\" fill=\"currentColor\" text-anchor=\"middle\">amod</textPath>\n",
       "    </text>\n",
       "    <path class=\"displacy-arrowhead\" d=\"M1820,441.5 L1812,429.5 1828,429.5\" fill=\"currentColor\"/>\n",
       "</g>\n",
       "\n",
       "<g class=\"displacy-arrow\">\n",
       "    <path class=\"displacy-arc\" id=\"arrow-0af7143234ba451c9a02d5b646f0eaa8-0-11\" stroke-width=\"2px\" d=\"M1470,439.5 C1470,264.5 1960.0,264.5 1960.0,439.5\" fill=\"none\" stroke=\"currentColor\"/>\n",
       "    <text dy=\"1.25em\" style=\"font-size: 0.8em; letter-spacing: 1px\">\n",
       "        <textPath xlink:href=\"#arrow-0af7143234ba451c9a02d5b646f0eaa8-0-11\" class=\"displacy-label\" startOffset=\"50%\" side=\"left\" fill=\"currentColor\" text-anchor=\"middle\">pobj</textPath>\n",
       "    </text>\n",
       "    <path class=\"displacy-arrowhead\" d=\"M1960.0,441.5 L1968.0,429.5 1952.0,429.5\" fill=\"currentColor\"/>\n",
       "</g>\n",
       "\n",
       "<g class=\"displacy-arrow\">\n",
       "    <path class=\"displacy-arc\" id=\"arrow-0af7143234ba451c9a02d5b646f0eaa8-0-12\" stroke-width=\"2px\" d=\"M2170,439.5 C2170,352.0 2305.0,352.0 2305.0,439.5\" fill=\"none\" stroke=\"currentColor\"/>\n",
       "    <text dy=\"1.25em\" style=\"font-size: 0.8em; letter-spacing: 1px\">\n",
       "        <textPath xlink:href=\"#arrow-0af7143234ba451c9a02d5b646f0eaa8-0-12\" class=\"displacy-label\" startOffset=\"50%\" side=\"left\" fill=\"currentColor\" text-anchor=\"middle\">aux</textPath>\n",
       "    </text>\n",
       "    <path class=\"displacy-arrowhead\" d=\"M2170,441.5 L2162,429.5 2178,429.5\" fill=\"currentColor\"/>\n",
       "</g>\n",
       "\n",
       "<g class=\"displacy-arrow\">\n",
       "    <path class=\"displacy-arc\" id=\"arrow-0af7143234ba451c9a02d5b646f0eaa8-0-13\" stroke-width=\"2px\" d=\"M2345,439.5 C2345,352.0 2480.0,352.0 2480.0,439.5\" fill=\"none\" stroke=\"currentColor\"/>\n",
       "    <text dy=\"1.25em\" style=\"font-size: 0.8em; letter-spacing: 1px\">\n",
       "        <textPath xlink:href=\"#arrow-0af7143234ba451c9a02d5b646f0eaa8-0-13\" class=\"displacy-label\" startOffset=\"50%\" side=\"left\" fill=\"currentColor\" text-anchor=\"middle\">prt</textPath>\n",
       "    </text>\n",
       "    <path class=\"displacy-arrowhead\" d=\"M2480.0,441.5 L2488.0,429.5 2472.0,429.5\" fill=\"currentColor\"/>\n",
       "</g>\n",
       "\n",
       "<g class=\"displacy-arrow\">\n",
       "    <path class=\"displacy-arc\" id=\"arrow-0af7143234ba451c9a02d5b646f0eaa8-0-14\" stroke-width=\"2px\" d=\"M2695,439.5 C2695,89.5 3545.0,89.5 3545.0,439.5\" fill=\"none\" stroke=\"currentColor\"/>\n",
       "    <text dy=\"1.25em\" style=\"font-size: 0.8em; letter-spacing: 1px\">\n",
       "        <textPath xlink:href=\"#arrow-0af7143234ba451c9a02d5b646f0eaa8-0-14\" class=\"displacy-label\" startOffset=\"50%\" side=\"left\" fill=\"currentColor\" text-anchor=\"middle\">mark</textPath>\n",
       "    </text>\n",
       "    <path class=\"displacy-arrowhead\" d=\"M2695,441.5 L2687,429.5 2703,429.5\" fill=\"currentColor\"/>\n",
       "</g>\n",
       "\n",
       "<g class=\"displacy-arrow\">\n",
       "    <path class=\"displacy-arc\" id=\"arrow-0af7143234ba451c9a02d5b646f0eaa8-0-15\" stroke-width=\"2px\" d=\"M2870,439.5 C2870,177.0 3540.0,177.0 3540.0,439.5\" fill=\"none\" stroke=\"currentColor\"/>\n",
       "    <text dy=\"1.25em\" style=\"font-size: 0.8em; letter-spacing: 1px\">\n",
       "        <textPath xlink:href=\"#arrow-0af7143234ba451c9a02d5b646f0eaa8-0-15\" class=\"displacy-label\" startOffset=\"50%\" side=\"left\" fill=\"currentColor\" text-anchor=\"middle\">nsubj</textPath>\n",
       "    </text>\n",
       "    <path class=\"displacy-arrowhead\" d=\"M2870,441.5 L2862,429.5 2878,429.5\" fill=\"currentColor\"/>\n",
       "</g>\n",
       "\n",
       "<g class=\"displacy-arrow\">\n",
       "    <path class=\"displacy-arc\" id=\"arrow-0af7143234ba451c9a02d5b646f0eaa8-0-16\" stroke-width=\"2px\" d=\"M2870,439.5 C2870,352.0 3005.0,352.0 3005.0,439.5\" fill=\"none\" stroke=\"currentColor\"/>\n",
       "    <text dy=\"1.25em\" style=\"font-size: 0.8em; letter-spacing: 1px\">\n",
       "        <textPath xlink:href=\"#arrow-0af7143234ba451c9a02d5b646f0eaa8-0-16\" class=\"displacy-label\" startOffset=\"50%\" side=\"left\" fill=\"currentColor\" text-anchor=\"middle\">prep</textPath>\n",
       "    </text>\n",
       "    <path class=\"displacy-arrowhead\" d=\"M3005.0,441.5 L3013.0,429.5 2997.0,429.5\" fill=\"currentColor\"/>\n",
       "</g>\n",
       "\n",
       "<g class=\"displacy-arrow\">\n",
       "    <path class=\"displacy-arc\" id=\"arrow-0af7143234ba451c9a02d5b646f0eaa8-0-17\" stroke-width=\"2px\" d=\"M3220,439.5 C3220,352.0 3355.0,352.0 3355.0,439.5\" fill=\"none\" stroke=\"currentColor\"/>\n",
       "    <text dy=\"1.25em\" style=\"font-size: 0.8em; letter-spacing: 1px\">\n",
       "        <textPath xlink:href=\"#arrow-0af7143234ba451c9a02d5b646f0eaa8-0-17\" class=\"displacy-label\" startOffset=\"50%\" side=\"left\" fill=\"currentColor\" text-anchor=\"middle\">det</textPath>\n",
       "    </text>\n",
       "    <path class=\"displacy-arrowhead\" d=\"M3220,441.5 L3212,429.5 3228,429.5\" fill=\"currentColor\"/>\n",
       "</g>\n",
       "\n",
       "<g class=\"displacy-arrow\">\n",
       "    <path class=\"displacy-arc\" id=\"arrow-0af7143234ba451c9a02d5b646f0eaa8-0-18\" stroke-width=\"2px\" d=\"M3045,439.5 C3045,264.5 3360.0,264.5 3360.0,439.5\" fill=\"none\" stroke=\"currentColor\"/>\n",
       "    <text dy=\"1.25em\" style=\"font-size: 0.8em; letter-spacing: 1px\">\n",
       "        <textPath xlink:href=\"#arrow-0af7143234ba451c9a02d5b646f0eaa8-0-18\" class=\"displacy-label\" startOffset=\"50%\" side=\"left\" fill=\"currentColor\" text-anchor=\"middle\">pobj</textPath>\n",
       "    </text>\n",
       "    <path class=\"displacy-arrowhead\" d=\"M3360.0,441.5 L3368.0,429.5 3352.0,429.5\" fill=\"currentColor\"/>\n",
       "</g>\n",
       "\n",
       "<g class=\"displacy-arrow\">\n",
       "    <path class=\"displacy-arc\" id=\"arrow-0af7143234ba451c9a02d5b646f0eaa8-0-19\" stroke-width=\"2px\" d=\"M2345,439.5 C2345,2.0 3550.0,2.0 3550.0,439.5\" fill=\"none\" stroke=\"currentColor\"/>\n",
       "    <text dy=\"1.25em\" style=\"font-size: 0.8em; letter-spacing: 1px\">\n",
       "        <textPath xlink:href=\"#arrow-0af7143234ba451c9a02d5b646f0eaa8-0-19\" class=\"displacy-label\" startOffset=\"50%\" side=\"left\" fill=\"currentColor\" text-anchor=\"middle\">advcl</textPath>\n",
       "    </text>\n",
       "    <path class=\"displacy-arrowhead\" d=\"M3550.0,441.5 L3558.0,429.5 3542.0,429.5\" fill=\"currentColor\"/>\n",
       "</g>\n",
       "\n",
       "<g class=\"displacy-arrow\">\n",
       "    <path class=\"displacy-arc\" id=\"arrow-0af7143234ba451c9a02d5b646f0eaa8-0-20\" stroke-width=\"2px\" d=\"M3570,439.5 C3570,352.0 3705.0,352.0 3705.0,439.5\" fill=\"none\" stroke=\"currentColor\"/>\n",
       "    <text dy=\"1.25em\" style=\"font-size: 0.8em; letter-spacing: 1px\">\n",
       "        <textPath xlink:href=\"#arrow-0af7143234ba451c9a02d5b646f0eaa8-0-20\" class=\"displacy-label\" startOffset=\"50%\" side=\"left\" fill=\"currentColor\" text-anchor=\"middle\">advcl</textPath>\n",
       "    </text>\n",
       "    <path class=\"displacy-arrowhead\" d=\"M3705.0,441.5 L3713.0,429.5 3697.0,429.5\" fill=\"currentColor\"/>\n",
       "</g>\n",
       "\n",
       "<g class=\"displacy-arrow\">\n",
       "    <path class=\"displacy-arc\" id=\"arrow-0af7143234ba451c9a02d5b646f0eaa8-0-21\" stroke-width=\"2px\" d=\"M3745,439.5 C3745,352.0 3880.0,352.0 3880.0,439.5\" fill=\"none\" stroke=\"currentColor\"/>\n",
       "    <text dy=\"1.25em\" style=\"font-size: 0.8em; letter-spacing: 1px\">\n",
       "        <textPath xlink:href=\"#arrow-0af7143234ba451c9a02d5b646f0eaa8-0-21\" class=\"displacy-label\" startOffset=\"50%\" side=\"left\" fill=\"currentColor\" text-anchor=\"middle\">prep</textPath>\n",
       "    </text>\n",
       "    <path class=\"displacy-arrowhead\" d=\"M3880.0,441.5 L3888.0,429.5 3872.0,429.5\" fill=\"currentColor\"/>\n",
       "</g>\n",
       "\n",
       "<g class=\"displacy-arrow\">\n",
       "    <path class=\"displacy-arc\" id=\"arrow-0af7143234ba451c9a02d5b646f0eaa8-0-22\" stroke-width=\"2px\" d=\"M3920,439.5 C3920,352.0 4055.0,352.0 4055.0,439.5\" fill=\"none\" stroke=\"currentColor\"/>\n",
       "    <text dy=\"1.25em\" style=\"font-size: 0.8em; letter-spacing: 1px\">\n",
       "        <textPath xlink:href=\"#arrow-0af7143234ba451c9a02d5b646f0eaa8-0-22\" class=\"displacy-label\" startOffset=\"50%\" side=\"left\" fill=\"currentColor\" text-anchor=\"middle\">pobj</textPath>\n",
       "    </text>\n",
       "    <path class=\"displacy-arrowhead\" d=\"M4055.0,441.5 L4063.0,429.5 4047.0,429.5\" fill=\"currentColor\"/>\n",
       "</g>\n",
       "\n",
       "<g class=\"displacy-arrow\">\n",
       "    <path class=\"displacy-arc\" id=\"arrow-0af7143234ba451c9a02d5b646f0eaa8-0-23\" stroke-width=\"2px\" d=\"M4270,439.5 C4270,352.0 4405.0,352.0 4405.0,439.5\" fill=\"none\" stroke=\"currentColor\"/>\n",
       "    <text dy=\"1.25em\" style=\"font-size: 0.8em; letter-spacing: 1px\">\n",
       "        <textPath xlink:href=\"#arrow-0af7143234ba451c9a02d5b646f0eaa8-0-23\" class=\"displacy-label\" startOffset=\"50%\" side=\"left\" fill=\"currentColor\" text-anchor=\"middle\">aux</textPath>\n",
       "    </text>\n",
       "    <path class=\"displacy-arrowhead\" d=\"M4270,441.5 L4262,429.5 4278,429.5\" fill=\"currentColor\"/>\n",
       "</g>\n",
       "\n",
       "<g class=\"displacy-arrow\">\n",
       "    <path class=\"displacy-arc\" id=\"arrow-0af7143234ba451c9a02d5b646f0eaa8-0-24\" stroke-width=\"2px\" d=\"M3570,439.5 C3570,264.5 4410.0,264.5 4410.0,439.5\" fill=\"none\" stroke=\"currentColor\"/>\n",
       "    <text dy=\"1.25em\" style=\"font-size: 0.8em; letter-spacing: 1px\">\n",
       "        <textPath xlink:href=\"#arrow-0af7143234ba451c9a02d5b646f0eaa8-0-24\" class=\"displacy-label\" startOffset=\"50%\" side=\"left\" fill=\"currentColor\" text-anchor=\"middle\">xcomp</textPath>\n",
       "    </text>\n",
       "    <path class=\"displacy-arrowhead\" d=\"M4410.0,441.5 L4418.0,429.5 4402.0,429.5\" fill=\"currentColor\"/>\n",
       "</g>\n",
       "\n",
       "<g class=\"displacy-arrow\">\n",
       "    <path class=\"displacy-arc\" id=\"arrow-0af7143234ba451c9a02d5b646f0eaa8-0-25\" stroke-width=\"2px\" d=\"M4620,439.5 C4620,352.0 4755.0,352.0 4755.0,439.5\" fill=\"none\" stroke=\"currentColor\"/>\n",
       "    <text dy=\"1.25em\" style=\"font-size: 0.8em; letter-spacing: 1px\">\n",
       "        <textPath xlink:href=\"#arrow-0af7143234ba451c9a02d5b646f0eaa8-0-25\" class=\"displacy-label\" startOffset=\"50%\" side=\"left\" fill=\"currentColor\" text-anchor=\"middle\">poss</textPath>\n",
       "    </text>\n",
       "    <path class=\"displacy-arrowhead\" d=\"M4620,441.5 L4612,429.5 4628,429.5\" fill=\"currentColor\"/>\n",
       "</g>\n",
       "\n",
       "<g class=\"displacy-arrow\">\n",
       "    <path class=\"displacy-arc\" id=\"arrow-0af7143234ba451c9a02d5b646f0eaa8-0-26\" stroke-width=\"2px\" d=\"M4445,439.5 C4445,264.5 4760.0,264.5 4760.0,439.5\" fill=\"none\" stroke=\"currentColor\"/>\n",
       "    <text dy=\"1.25em\" style=\"font-size: 0.8em; letter-spacing: 1px\">\n",
       "        <textPath xlink:href=\"#arrow-0af7143234ba451c9a02d5b646f0eaa8-0-26\" class=\"displacy-label\" startOffset=\"50%\" side=\"left\" fill=\"currentColor\" text-anchor=\"middle\">dobj</textPath>\n",
       "    </text>\n",
       "    <path class=\"displacy-arrowhead\" d=\"M4760.0,441.5 L4768.0,429.5 4752.0,429.5\" fill=\"currentColor\"/>\n",
       "</g>\n",
       "\n",
       "<g class=\"displacy-arrow\">\n",
       "    <path class=\"displacy-arc\" id=\"arrow-0af7143234ba451c9a02d5b646f0eaa8-0-27\" stroke-width=\"2px\" d=\"M4795,439.5 C4795,352.0 4930.0,352.0 4930.0,439.5\" fill=\"none\" stroke=\"currentColor\"/>\n",
       "    <text dy=\"1.25em\" style=\"font-size: 0.8em; letter-spacing: 1px\">\n",
       "        <textPath xlink:href=\"#arrow-0af7143234ba451c9a02d5b646f0eaa8-0-27\" class=\"displacy-label\" startOffset=\"50%\" side=\"left\" fill=\"currentColor\" text-anchor=\"middle\">prep</textPath>\n",
       "    </text>\n",
       "    <path class=\"displacy-arrowhead\" d=\"M4930.0,441.5 L4938.0,429.5 4922.0,429.5\" fill=\"currentColor\"/>\n",
       "</g>\n",
       "\n",
       "<g class=\"displacy-arrow\">\n",
       "    <path class=\"displacy-arc\" id=\"arrow-0af7143234ba451c9a02d5b646f0eaa8-0-28\" stroke-width=\"2px\" d=\"M5145,439.5 C5145,264.5 5635.0,264.5 5635.0,439.5\" fill=\"none\" stroke=\"currentColor\"/>\n",
       "    <text dy=\"1.25em\" style=\"font-size: 0.8em; letter-spacing: 1px\">\n",
       "        <textPath xlink:href=\"#arrow-0af7143234ba451c9a02d5b646f0eaa8-0-28\" class=\"displacy-label\" startOffset=\"50%\" side=\"left\" fill=\"currentColor\" text-anchor=\"middle\">det</textPath>\n",
       "    </text>\n",
       "    <path class=\"displacy-arrowhead\" d=\"M5145,441.5 L5137,429.5 5153,429.5\" fill=\"currentColor\"/>\n",
       "</g>\n",
       "\n",
       "<g class=\"displacy-arrow\">\n",
       "    <path class=\"displacy-arc\" id=\"arrow-0af7143234ba451c9a02d5b646f0eaa8-0-29\" stroke-width=\"2px\" d=\"M5320,439.5 C5320,352.0 5455.0,352.0 5455.0,439.5\" fill=\"none\" stroke=\"currentColor\"/>\n",
       "    <text dy=\"1.25em\" style=\"font-size: 0.8em; letter-spacing: 1px\">\n",
       "        <textPath xlink:href=\"#arrow-0af7143234ba451c9a02d5b646f0eaa8-0-29\" class=\"displacy-label\" startOffset=\"50%\" side=\"left\" fill=\"currentColor\" text-anchor=\"middle\">advmod</textPath>\n",
       "    </text>\n",
       "    <path class=\"displacy-arrowhead\" d=\"M5320,441.5 L5312,429.5 5328,429.5\" fill=\"currentColor\"/>\n",
       "</g>\n",
       "\n",
       "<g class=\"displacy-arrow\">\n",
       "    <path class=\"displacy-arc\" id=\"arrow-0af7143234ba451c9a02d5b646f0eaa8-0-30\" stroke-width=\"2px\" d=\"M5495,439.5 C5495,352.0 5630.0,352.0 5630.0,439.5\" fill=\"none\" stroke=\"currentColor\"/>\n",
       "    <text dy=\"1.25em\" style=\"font-size: 0.8em; letter-spacing: 1px\">\n",
       "        <textPath xlink:href=\"#arrow-0af7143234ba451c9a02d5b646f0eaa8-0-30\" class=\"displacy-label\" startOffset=\"50%\" side=\"left\" fill=\"currentColor\" text-anchor=\"middle\">amod</textPath>\n",
       "    </text>\n",
       "    <path class=\"displacy-arrowhead\" d=\"M5495,441.5 L5487,429.5 5503,429.5\" fill=\"currentColor\"/>\n",
       "</g>\n",
       "\n",
       "<g class=\"displacy-arrow\">\n",
       "    <path class=\"displacy-arc\" id=\"arrow-0af7143234ba451c9a02d5b646f0eaa8-0-31\" stroke-width=\"2px\" d=\"M4970,439.5 C4970,177.0 5640.0,177.0 5640.0,439.5\" fill=\"none\" stroke=\"currentColor\"/>\n",
       "    <text dy=\"1.25em\" style=\"font-size: 0.8em; letter-spacing: 1px\">\n",
       "        <textPath xlink:href=\"#arrow-0af7143234ba451c9a02d5b646f0eaa8-0-31\" class=\"displacy-label\" startOffset=\"50%\" side=\"left\" fill=\"currentColor\" text-anchor=\"middle\">pobj</textPath>\n",
       "    </text>\n",
       "    <path class=\"displacy-arrowhead\" d=\"M5640.0,441.5 L5648.0,429.5 5632.0,429.5\" fill=\"currentColor\"/>\n",
       "</g>\n",
       "\n",
       "<g class=\"displacy-arrow\">\n",
       "    <path class=\"displacy-arc\" id=\"arrow-0af7143234ba451c9a02d5b646f0eaa8-0-32\" stroke-width=\"2px\" d=\"M5670,439.5 C5670,352.0 5805.0,352.0 5805.0,439.5\" fill=\"none\" stroke=\"currentColor\"/>\n",
       "    <text dy=\"1.25em\" style=\"font-size: 0.8em; letter-spacing: 1px\">\n",
       "        <textPath xlink:href=\"#arrow-0af7143234ba451c9a02d5b646f0eaa8-0-32\" class=\"displacy-label\" startOffset=\"50%\" side=\"left\" fill=\"currentColor\" text-anchor=\"middle\">prep</textPath>\n",
       "    </text>\n",
       "    <path class=\"displacy-arrowhead\" d=\"M5805.0,441.5 L5813.0,429.5 5797.0,429.5\" fill=\"currentColor\"/>\n",
       "</g>\n",
       "\n",
       "<g class=\"displacy-arrow\">\n",
       "    <path class=\"displacy-arc\" id=\"arrow-0af7143234ba451c9a02d5b646f0eaa8-0-33\" stroke-width=\"2px\" d=\"M6020,439.5 C6020,352.0 6155.0,352.0 6155.0,439.5\" fill=\"none\" stroke=\"currentColor\"/>\n",
       "    <text dy=\"1.25em\" style=\"font-size: 0.8em; letter-spacing: 1px\">\n",
       "        <textPath xlink:href=\"#arrow-0af7143234ba451c9a02d5b646f0eaa8-0-33\" class=\"displacy-label\" startOffset=\"50%\" side=\"left\" fill=\"currentColor\" text-anchor=\"middle\">advmod</textPath>\n",
       "    </text>\n",
       "    <path class=\"displacy-arrowhead\" d=\"M6020,441.5 L6012,429.5 6028,429.5\" fill=\"currentColor\"/>\n",
       "</g>\n",
       "\n",
       "<g class=\"displacy-arrow\">\n",
       "    <path class=\"displacy-arc\" id=\"arrow-0af7143234ba451c9a02d5b646f0eaa8-0-34\" stroke-width=\"2px\" d=\"M6195,439.5 C6195,352.0 6330.0,352.0 6330.0,439.5\" fill=\"none\" stroke=\"currentColor\"/>\n",
       "    <text dy=\"1.25em\" style=\"font-size: 0.8em; letter-spacing: 1px\">\n",
       "        <textPath xlink:href=\"#arrow-0af7143234ba451c9a02d5b646f0eaa8-0-34\" class=\"displacy-label\" startOffset=\"50%\" side=\"left\" fill=\"currentColor\" text-anchor=\"middle\">amod</textPath>\n",
       "    </text>\n",
       "    <path class=\"displacy-arrowhead\" d=\"M6195,441.5 L6187,429.5 6203,429.5\" fill=\"currentColor\"/>\n",
       "</g>\n",
       "\n",
       "<g class=\"displacy-arrow\">\n",
       "    <path class=\"displacy-arc\" id=\"arrow-0af7143234ba451c9a02d5b646f0eaa8-0-35\" stroke-width=\"2px\" d=\"M5845,439.5 C5845,264.5 6335.0,264.5 6335.0,439.5\" fill=\"none\" stroke=\"currentColor\"/>\n",
       "    <text dy=\"1.25em\" style=\"font-size: 0.8em; letter-spacing: 1px\">\n",
       "        <textPath xlink:href=\"#arrow-0af7143234ba451c9a02d5b646f0eaa8-0-35\" class=\"displacy-label\" startOffset=\"50%\" side=\"left\" fill=\"currentColor\" text-anchor=\"middle\">pobj</textPath>\n",
       "    </text>\n",
       "    <path class=\"displacy-arrowhead\" d=\"M6335.0,441.5 L6343.0,429.5 6327.0,429.5\" fill=\"currentColor\"/>\n",
       "</g>\n",
       "</svg></span>"
      ],
      "text/plain": [
       "<IPython.core.display.HTML object>"
      ]
     },
     "metadata": {},
     "output_type": "display_data"
    }
   ],
   "source": [
    "#dependency visualizer\n",
    "doc = nlp(text)\n",
    "sent = list(doc.sents)[2]\n",
    "displacy.render(sent, style=\"dep\")\n",
    "# so every element of list is one sentence that represents grammatical info of that sentence"
   ]
  },
  {
   "cell_type": "code",
   "execution_count": 22,
   "id": "5c0b82ff",
   "metadata": {},
   "outputs": [
    {
     "name": "stdout",
     "output_type": "stream",
     "text": [
      "[('When', 'advmod', 'started'), ('Sebastian', 'compound', 'Thrun'), ('Thrun', 'nsubj', 'started'), ('started', 'advcl', 'took'), ('working', 'xcomp', 'started'), ('on', 'prep', 'working'), ('self', 'npadvmod', 'driving'), ('-', 'punct', 'driving'), ('driving', 'amod', 'cars'), ('cars', 'pobj', 'on'), ('at', 'prep', 'working'), ('Google', 'pobj', 'at'), ('in', 'prep', 'working'), ('2007', 'pobj', 'in'), (',', 'punct', 'took'), ('few', 'amod', 'people'), ('people', 'nsubj', 'took'), ('outside', 'advmod', 'people'), ('of', 'prep', 'outside'), ('the', 'det', 'company'), ('company', 'pobj', 'of'), ('took', 'ROOT', 'took'), ('him', 'dobj', 'took'), ('seriously', 'advmod', 'took'), ('.', 'punct', 'took'), ('“', 'punct', 'said'), ('I', 'nsubj', 'tell'), ('can', 'aux', 'tell'), ('tell', 'ccomp', 'said'), ('you', 'dobj', 'tell'), ('very', 'advmod', 'senior'), ('senior', 'amod', 'CEOs'), ('CEOs', 'nsubj', 'shake'), ('of', 'prep', 'CEOs'), ('major', 'amod', 'companies'), ('American', 'amod', 'companies'), ('car', 'compound', 'companies'), ('companies', 'pobj', 'of'), ('would', 'aux', 'shake'), ('shake', 'ccomp', 'tell'), ('my', 'poss', 'hand'), ('hand', 'dobj', 'shake'), ('and', 'cc', 'shake'), ('turn', 'conj', 'shake'), ('away', 'prt', 'turn'), ('because', 'mark', 'was'), ('I', 'nsubj', 'was'), ('was', 'advcl', 'turn'), ('n’t', 'neg', 'was'), ('worth', 'acomp', 'was'), ('talking', 'xcomp', 'worth'), ('to', 'prep', 'talking'), (',', 'punct', 'said'), ('”', 'punct', 'said'), ('said', 'ROOT', 'said'), ('Thrun', 'nsubj', 'said'), (',', 'punct', 'Thrun'), ('now', 'advmod', 'co'), ('the', 'det', 'co'), ('co', 'appos', 'Thrun'), ('-', 'appos', 'Thrun'), ('founder', 'appos', 'Thrun'), ('and', 'cc', 'founder'), ('CEO', 'conj', 'founder'), ('of', 'prep', 'founder'), ('online', 'amod', 'startup'), ('higher', 'amod', 'education'), ('education', 'compound', 'startup'), ('startup', 'compound', 'Udacity'), ('Udacity', 'pobj', 'of'), (',', 'punct', 'Thrun'), ('in', 'prep', 'said'), ('an', 'det', 'interview'), ('interview', 'pobj', 'in'), ('with', 'prep', 'interview'), ('Recode', 'pobj', 'with'), ('earlier', 'advmod', 'week'), ('this', 'det', 'week'), ('week', 'npadvmod', 'interview'), ('.', 'punct', 'said'), ('A', 'det', 'little'), ('little', 'npadvmod', 'less'), ('less', 'npadvmod', 'later'), ('than', 'prep', 'less'), ('a', 'det', 'decade'), ('decade', 'pobj', 'than'), ('later', 'advmod', 'cropped'), (',', 'punct', 'cropped'), ('dozens', 'nsubj', 'cropped'), ('of', 'prep', 'dozens'), ('self', 'npadvmod', 'driving'), ('-', 'punct', 'driving'), ('driving', 'amod', 'startups'), ('startups', 'pobj', 'of'), ('have', 'aux', 'cropped'), ('cropped', 'ROOT', 'cropped'), ('up', 'prt', 'cropped'), ('while', 'mark', 'clamor'), ('automakers', 'nsubj', 'clamor'), ('around', 'prep', 'automakers'), ('the', 'det', 'world'), ('world', 'pobj', 'around'), ('clamor', 'advcl', 'cropped'), (',', 'punct', 'clamor'), ('wallet', 'advcl', 'clamor'), ('in', 'prep', 'wallet'), ('hand', 'pobj', 'in'), (',', 'punct', 'clamor'), ('to', 'aux', 'secure'), ('secure', 'xcomp', 'clamor'), ('their', 'poss', 'place'), ('place', 'dobj', 'secure'), ('in', 'prep', 'place'), ('the', 'det', 'world'), ('fast', 'advmod', 'moving'), ('-', 'punct', 'moving'), ('moving', 'amod', 'world'), ('world', 'pobj', 'in'), ('of', 'prep', 'world'), ('fully', 'advmod', 'automated'), ('automated', 'amod', 'transportation'), ('transportation', 'pobj', 'of'), ('.', 'punct', 'cropped')]\n"
     ]
    }
   ],
   "source": [
    "dependencies = [(token.text, token.dep_, token.head.text) for token in doc]\n",
    "print(dependencies)"
   ]
  },
  {
   "cell_type": "markdown",
   "id": "721b8492",
   "metadata": {},
   "source": [
    "Labels available in the model: 'CARDINAL', 'DATE', 'EVENT', 'FAC', 'GPE', 'LANGUAGE', 'LAW', 'LOC', 'MONEY', 'NORP', 'ORDINAL', 'ORG', 'PERCENT', 'PERSON', 'PRODUCT', 'QUANTITY', 'TIME', 'WORK_OF_ART'"
   ]
  },
  {
   "cell_type": "code",
   "execution_count": 23,
   "id": "4b75a266",
   "metadata": {},
   "outputs": [
    {
     "name": "stdout",
     "output_type": "stream",
     "text": [
      "[{'text': 'Sebastian Thrun', 'label': 'PERSON'}, {'text': 'Google', 'label': 'ORG'}, {'text': '2007', 'label': 'DATE'}, {'text': 'American', 'label': 'NORP'}, {'text': 'Thrun', 'label': 'PERSON'}, {'text': 'Udacity', 'label': 'ORG'}, {'text': 'Recode', 'label': 'ORG'}, {'text': 'earlier this week', 'label': 'DATE'}, {'text': 'A little less than a decade later', 'label': 'DATE'}, {'text': 'dozens', 'label': 'CARDINAL'}]\n"
     ]
    }
   ],
   "source": [
    "# Process the text with the SpaCy model\n",
    "doc = nlp_trf(text)\n",
    "\n",
    "# List to store the entities\n",
    "entities_list = []\n",
    "\n",
    "# Extract the entities from the doc object and store in the entities_list\n",
    "for ent in doc.ents:\n",
    "    entity_dict = {'text': ent.text, 'label': ent.label_}\n",
    "    entities_list.append(entity_dict)\n",
    "\n",
    "# Print the entities_list\n",
    "print(entities_list)"
   ]
  },
  {
   "cell_type": "code",
   "execution_count": 24,
   "id": "e0c1d23a",
   "metadata": {},
   "outputs": [],
   "source": [
    "def person_to_verb(tok):\n",
    "    verb_phrase = []\n",
    "    # First, iterate through all the ancestors of the token\n",
    "    for i in tok.ancestors:\n",
    "        # When you get to a verb (using a POS tag)...\n",
    "        if i.pos_ == \"VERB\":\n",
    "            # ...add the verb to the verb phrase list\n",
    "            verb_phrase.append(i)\n",
    "            # Then, also add the direct object(s) of the verb, as long as the original token\n",
    "            # is in the same subtree as the direct object\n",
    "            verb_phrase.extend([j for j in i.children if j.dep_ == \"dobj\" and tok in i.subtree])\n",
    "            break # as we want to find first verb only that will give us info about actions of the entity\n",
    "    # Expand out the verb phrase to get modifiers (\"amod\") of the direct object\n",
    "    for i in verb_phrase:\n",
    "        for j in i.children:\n",
    "            if j.dep_ == \"amod\":\n",
    "                verb_phrase.append(j)\n",
    "\n",
    "    # Sort the tokens by their position in the original sentence\n",
    "    new_list = sorted(verb_phrase, key=lambda x: x.i)\n",
    "    # Join them together with the correct whitespace and return\n",
    "    return ''.join([i.text_with_ws for i in new_list]).strip()"
   ]
  },
  {
   "cell_type": "code",
   "execution_count": 25,
   "id": "bd203b9f",
   "metadata": {},
   "outputs": [
    {
     "name": "stdout",
     "output_type": "stream",
     "text": [
      "{'entity': 'Google', 'relationship': 'working'}\n",
      "{'entity': '2007', 'relationship': 'working'}\n",
      "{'entity': 'American', 'relationship': 'shake hand'}\n",
      "{'entity': 'Thrun', 'relationship': 'started'}\n",
      "{'entity': 'Udacity', 'relationship': 'said'}\n",
      "{'entity': 'Recode', 'relationship': 'said'}\n",
      "{'entity': 'dozens', 'relationship': 'cropped'}\n"
     ]
    }
   ],
   "source": [
    "# List to store the relationships\n",
    "relationships_list = []\n",
    "\n",
    "# Loop through the entities and find relationships for each entity\n",
    "for entity in entities_list:\n",
    "    # Find the corresponding token object for the current entity\n",
    "    entity_text = entity['text']\n",
    "    entity_token = None\n",
    "    for token in doc:\n",
    "        if token.text == entity_text:\n",
    "            entity_token = token\n",
    "            break\n",
    "\n",
    "    # If the token corresponding to the entity is found, find relationships using loc_to_verb\n",
    "    if entity_token:\n",
    "        relationship = person_to_verb(entity_token)\n",
    "        # Append the relationship to the relationships_list\n",
    "        relationships_list.append({'entity': entity_text, 'relationship': relationship})\n",
    "\n",
    "# Print the relationships\n",
    "for relationship in relationships_list:\n",
    "    print(relationship)"
   ]
  },
  {
   "cell_type": "code",
   "execution_count": 28,
   "id": "76d884e8",
   "metadata": {},
   "outputs": [
    {
     "data": {
      "text/plain": [
       "'When Sebastian Thrun started working on self-driving cars at Google in 2007, few people outside of the company took him seriously. “I can tell you very senior CEOs of major American car companies would shake my hand and turn away because I wasn’t worth talking to,” said Thrun, now the co-founder and CEO of online higher education startup Udacity, in an interview with Recode earlier this week. A little less than a decade later, dozens of self-driving startups have cropped up while automakers around the world clamor, wallet in hand, to secure their place in the fast-moving world of fully automated transportation.'"
      ]
     },
     "execution_count": 28,
     "metadata": {},
     "output_type": "execute_result"
    }
   ],
   "source": [
    "text"
   ]
  },
  {
   "cell_type": "code",
   "execution_count": 37,
   "id": "d0c96653",
   "metadata": {},
   "outputs": [
    {
     "data": {
      "text/plain": [
       "'\"first\", \"second\", etc.'"
      ]
     },
     "execution_count": 37,
     "metadata": {},
     "output_type": "execute_result"
    }
   ],
   "source": [
    "# to understand meaning of any attribute that comes under spacy\n",
    "spacy.explain('ORDINAL') #for eg. ORDINAL label meaning here is explained"
   ]
  },
  {
   "cell_type": "code",
   "execution_count": null,
   "id": "662cf77f",
   "metadata": {},
   "outputs": [],
   "source": []
  }
 ],
 "metadata": {
  "kernelspec": {
   "display_name": "Python 3 (ipykernel)",
   "language": "python",
   "name": "python3"
  },
  "language_info": {
   "codemirror_mode": {
    "name": "ipython",
    "version": 3
   },
   "file_extension": ".py",
   "mimetype": "text/x-python",
   "name": "python",
   "nbconvert_exporter": "python",
   "pygments_lexer": "ipython3",
   "version": "3.11.3"
  }
 },
 "nbformat": 4,
 "nbformat_minor": 5
}
