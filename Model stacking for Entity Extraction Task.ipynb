{
 "cells": [
  {
   "cell_type": "code",
   "execution_count": 2,
   "id": "1b71b3a1",
   "metadata": {},
   "outputs": [],
   "source": [
    "text = \"Myself Akshat Rai Laddha, working as Machine Learning engineer at Carelon Global Solutions in Bangalore. Proficient in public speaking and coding\""
   ]
  },
  {
   "cell_type": "code",
   "execution_count": 5,
   "id": "0978febc",
   "metadata": {},
   "outputs": [],
   "source": [
    "# Loading the pipeline from hub\n",
    "from transformers import pipeline\n",
    "# Pipeline handles the preprocessing and post processing steps\n",
    "model_checkpoint_m1 = \"balamurugan1603/bert-finetuned-ner\"\n",
    "namedEntityRecogniser_m1 = pipeline(\n",
    "    \"token-classification\", model=model_checkpoint_m1, aggregation_strategy=\"simple\"\n",
    ")"
   ]
  },
  {
   "cell_type": "code",
   "execution_count": 7,
   "id": "bfd6a927",
   "metadata": {},
   "outputs": [
    {
     "name": "stdout",
     "output_type": "stream",
     "text": [
      "[[{'entity_group': 'PER', 'score': 0.99715745, 'word': 'Akshat Rai Laddha', 'start': 7, 'end': 24}, {'entity_group': 'ORG', 'score': 0.99314034, 'word': 'Carelon Global Solutions', 'start': 66, 'end': 90}, {'entity_group': 'LOC', 'score': 0.9948565, 'word': 'Bangalore', 'start': 94, 'end': 103}]]\n"
     ]
    }
   ],
   "source": [
    "m1_results=namedEntityRecogniser_m1([text])\n",
    "print(m1_results)"
   ]
  },
  {
   "cell_type": "code",
   "execution_count": 8,
   "id": "22649620",
   "metadata": {},
   "outputs": [],
   "source": [
    "# Model 2: for skill recognition\n",
    "model_checkpoint_m2 = \"algiraldohe/lm-ner-linkedin-skills-recognition\"\n",
    "namedEntityRecogniser_m2 = pipeline(\n",
    "    \"token-classification\", model=model_checkpoint_m2, aggregation_strategy=\"simple\"\n",
    ")"
   ]
  },
  {
   "cell_type": "code",
   "execution_count": 9,
   "id": "bff1d343",
   "metadata": {},
   "outputs": [
    {
     "name": "stdout",
     "output_type": "stream",
     "text": [
      "[[{'entity_group': 'TECHNICAL', 'score': 0.99462366, 'word': 'machine learning', 'start': 37, 'end': 53}, {'entity_group': 'SOFT', 'score': 0.7944664, 'word': 'public speaking', 'start': 119, 'end': 134}]]\n"
     ]
    }
   ],
   "source": [
    "m2_results = namedEntityRecogniser_m2([text])\n",
    "print(m2_results)"
   ]
  },
  {
   "cell_type": "markdown",
   "id": "2aa8663d",
   "metadata": {},
   "source": [
    "extracted results from both the models."
   ]
  },
  {
   "cell_type": "markdown",
   "id": "02f9e889",
   "metadata": {},
   "source": [
    "### Merging results"
   ]
  },
  {
   "cell_type": "code",
   "execution_count": 10,
   "id": "1832bda2",
   "metadata": {},
   "outputs": [],
   "source": [
    "m1_results.extend(m2_results)"
   ]
  },
  {
   "cell_type": "code",
   "execution_count": 13,
   "id": "d96b798e",
   "metadata": {},
   "outputs": [],
   "source": [
    "# Merge the two lists into a single list\n",
    "merged_results = m1_results[0]\n",
    "for entity in m1_results[1]:\n",
    "    existing_entity = next((ent for ent in merged_results if ent['start'] == entity['start']), None)\n",
    "    if existing_entity is None or entity['score'] > existing_entity['score']:\n",
    "        merged_results.append(entity)\n",
    "\n",
    "# Sort the merged list based on 'start' index in ascending order\n",
    "sorted_results= sorted(merged_results, key=lambda x: x['start'])"
   ]
  },
  {
   "cell_type": "code",
   "execution_count": 14,
   "id": "9a081ebc",
   "metadata": {},
   "outputs": [
    {
     "name": "stdout",
     "output_type": "stream",
     "text": [
      "[{'entity_group': 'PER', 'score': 0.99715745, 'word': 'Akshat Rai Laddha', 'start': 7, 'end': 24}, {'entity_group': 'TECHNICAL', 'score': 0.99462366, 'word': 'machine learning', 'start': 37, 'end': 53}, {'entity_group': 'ORG', 'score': 0.99314034, 'word': 'Carelon Global Solutions', 'start': 66, 'end': 90}, {'entity_group': 'LOC', 'score': 0.9948565, 'word': 'Bangalore', 'start': 94, 'end': 103}, {'entity_group': 'SOFT', 'score': 0.7944664, 'word': 'public speaking', 'start': 119, 'end': 134}]\n"
     ]
    }
   ],
   "source": [
    "print(sorted_results)"
   ]
  },
  {
   "cell_type": "code",
   "execution_count": 22,
   "id": "d6c6db2c",
   "metadata": {},
   "outputs": [],
   "source": [
    "final_result=[sorted_results]"
   ]
  },
  {
   "cell_type": "markdown",
   "id": "dcf450e9",
   "metadata": {},
   "source": [
    "### Visualization"
   ]
  },
  {
   "cell_type": "code",
   "execution_count": 23,
   "id": "9226b174",
   "metadata": {},
   "outputs": [],
   "source": [
    "from spacy import displacy"
   ]
  },
  {
   "cell_type": "code",
   "execution_count": 24,
   "id": "3f3f393d",
   "metadata": {},
   "outputs": [
    {
     "data": {
      "text/html": [
       "<span class=\"tex2jax_ignore\"><div class=\"entities\" style=\"line-height: 2.5; direction: ltr\">Myself \n",
       "<mark class=\"entity\" style=\"background: #ddd; padding: 0.45em 0.6em; margin: 0 0.25em; line-height: 1; border-radius: 0.35em;\">\n",
       "    Akshat Rai Laddha\n",
       "    <span style=\"font-size: 0.8em; font-weight: bold; line-height: 1; border-radius: 0.35em; vertical-align: middle; margin-left: 0.5rem\">PER</span>\n",
       "</mark>\n",
       ", working as \n",
       "<mark class=\"entity\" style=\"background: #ddd; padding: 0.45em 0.6em; margin: 0 0.25em; line-height: 1; border-radius: 0.35em;\">\n",
       "    Machine Learning\n",
       "    <span style=\"font-size: 0.8em; font-weight: bold; line-height: 1; border-radius: 0.35em; vertical-align: middle; margin-left: 0.5rem\">TECHNICAL</span>\n",
       "</mark>\n",
       " engineer at \n",
       "<mark class=\"entity\" style=\"background: #7aecec; padding: 0.45em 0.6em; margin: 0 0.25em; line-height: 1; border-radius: 0.35em;\">\n",
       "    Carelon Global Solutions\n",
       "    <span style=\"font-size: 0.8em; font-weight: bold; line-height: 1; border-radius: 0.35em; vertical-align: middle; margin-left: 0.5rem\">ORG</span>\n",
       "</mark>\n",
       " in \n",
       "<mark class=\"entity\" style=\"background: #ff9561; padding: 0.45em 0.6em; margin: 0 0.25em; line-height: 1; border-radius: 0.35em;\">\n",
       "    Bangalore\n",
       "    <span style=\"font-size: 0.8em; font-weight: bold; line-height: 1; border-radius: 0.35em; vertical-align: middle; margin-left: 0.5rem\">LOC</span>\n",
       "</mark>\n",
       ". Proficient in \n",
       "<mark class=\"entity\" style=\"background: #ddd; padding: 0.45em 0.6em; margin: 0 0.25em; line-height: 1; border-radius: 0.35em;\">\n",
       "    public speaking\n",
       "    <span style=\"font-size: 0.8em; font-weight: bold; line-height: 1; border-radius: 0.35em; vertical-align: middle; margin-left: 0.5rem\">SOFT</span>\n",
       "</mark>\n",
       " and coding</div></span>"
      ],
      "text/plain": [
       "<IPython.core.display.HTML object>"
      ]
     },
     "metadata": {},
     "output_type": "display_data"
    }
   ],
   "source": [
    "def visualize(pipeline_output, texts):\n",
    "    for i in range(len(final_result)):\n",
    "        entities = []\n",
    "        for ents in final_result[i]:\n",
    "            entities.append({\"end\": ents[\"end\"], \"label\": ents[\"entity_group\"], \"start\": ents[\"start\"]})\n",
    "        displacy.render({\n",
    "            \"ents\": entities,\n",
    "            \"text\": texts[i]\n",
    "        }, style=\"ent\", manual=True)\n",
    "visualize(final_result,[text])"
   ]
  },
  {
   "cell_type": "markdown",
   "id": "16ba8790",
   "metadata": {},
   "source": [
    "### Successfully extracted entities with different labels such as Person, Organization, Location, Skills , Miscellaneous etc."
   ]
  },
  {
   "cell_type": "code",
   "execution_count": null,
   "id": "1bc9ab05",
   "metadata": {},
   "outputs": [],
   "source": []
  }
 ],
 "metadata": {
  "kernelspec": {
   "display_name": "Python 3 (ipykernel)",
   "language": "python",
   "name": "python3"
  },
  "language_info": {
   "codemirror_mode": {
    "name": "ipython",
    "version": 3
   },
   "file_extension": ".py",
   "mimetype": "text/x-python",
   "name": "python",
   "nbconvert_exporter": "python",
   "pygments_lexer": "ipython3",
   "version": "3.11.3"
  }
 },
 "nbformat": 4,
 "nbformat_minor": 5
}
